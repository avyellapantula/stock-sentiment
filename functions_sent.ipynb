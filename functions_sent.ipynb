{
 "cells": [
  {
   "cell_type": "code",
   "execution_count": 1,
   "metadata": {},
   "outputs": [],
   "source": [
    "# import libs\n",
    "import numpy as np\n",
    "import pandas as pd\n",
    "from bs4 import BeautifulSoup\n",
    "import matplotlib.pyplot as plt\n",
    "from urllib.request import urlopen\n",
    "from urllib.request import Request\n",
    "from nltk.sentiment.vader import SentimentIntensityAnalyzer\n",
    "import nltk\n",
    "# nltk.download('vader_lexicon')\n",
    "import matplotlib.pyplot as plt\n",
    "import matplotlib.dates as mdates\n",
    "import seaborn as sns\n",
    "\n",
    "%matplotlib inline\n",
    "import yfinance as yf"
   ]
  },
  {
   "cell_type": "code",
   "execution_count": 2,
   "metadata": {},
   "outputs": [],
   "source": [
    "#1. news sentiment\n",
    "# set tickers first\n",
    "tickers=['AAPL','MSFT','AMZN']\n",
    "finwiz_url = 'https://finviz.com/quote.ashx?t='\n",
    "news_tables = {}\n",
    "def get_data(n):\n",
    "    for ticker in tickers:\n",
    "        url = finwiz_url + ticker\n",
    "        req = Request(url=url,headers={'user-agent': 'my-app/0.0.1'}) \n",
    "        resp = urlopen(req)    \n",
    "        html = BeautifulSoup(resp, features=\"lxml\")\n",
    "        news_table = html.find(id='news-table')\n",
    "        news_tables[ticker] = news_table\n",
    "        \n",
    "    try:\n",
    "        for ticker in tickers:\n",
    "            df = news_tables[ticker]\n",
    "            df_tr = df.findAll('tr')\n",
    "\n",
    "            print ('\\n')\n",
    "            print ('Recent News Headlines for {}: '.format(ticker))\n",
    "\n",
    "            for i, table_row in enumerate(df_tr):\n",
    "                a_text = table_row.a.text\n",
    "                td_text = table_row.td.text\n",
    "                td_text = td_text.strip()\n",
    "                print(a_text,'(',td_text,')')\n",
    "                if i == n-1:\n",
    "                    break\n",
    "    except KeyError:\n",
    "        pass"
   ]
  },
  {
   "cell_type": "code",
   "execution_count": null,
   "metadata": {},
   "outputs": [],
   "source": []
  }
 ],
 "metadata": {
  "kernelspec": {
   "display_name": "Python 3",
   "language": "python",
   "name": "python3"
  },
  "language_info": {
   "codemirror_mode": {
    "name": "ipython",
    "version": 3
   },
   "file_extension": ".py",
   "mimetype": "text/x-python",
   "name": "python",
   "nbconvert_exporter": "python",
   "pygments_lexer": "ipython3",
   "version": "3.7.6"
  }
 },
 "nbformat": 4,
 "nbformat_minor": 4
}
