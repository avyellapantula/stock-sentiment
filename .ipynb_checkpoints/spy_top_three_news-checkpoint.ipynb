{
 "cells": [
  {
   "cell_type": "code",
   "execution_count": 21,
   "metadata": {},
   "outputs": [],
   "source": [
    "# !pip install seaborn"
   ]
  },
  {
   "cell_type": "code",
   "execution_count": 26,
   "metadata": {},
   "outputs": [],
   "source": [
    "import pandas as pd\n",
    "from bs4 import BeautifulSoup\n",
    "import matplotlib.pyplot as plt\n",
    "from urllib.request import urlopen\n",
    "from urllib.request import Request\n",
    "from nltk.sentiment.vader import SentimentIntensityAnalyzer\n",
    "import nltk\n",
    "# nltk.download('vader_lexicon')\n",
    "import matplotlib.pyplot as plt\n",
    "import seaborn as sns\n",
    "\n",
    "%matplotlib inline"
   ]
  },
  {
   "cell_type": "code",
   "execution_count": 2,
   "metadata": {},
   "outputs": [],
   "source": [
    "# params\n",
    "n=3 # number of headlines displayed per ticker\n",
    "tickers=['AAPL','MSFT','AMZN']"
   ]
  },
  {
   "cell_type": "code",
   "execution_count": 3,
   "metadata": {},
   "outputs": [],
   "source": [
    "# Get Data\n",
    "finwiz_url = 'https://finviz.com/quote.ashx?t='\n",
    "news_tables = {}"
   ]
  },
  {
   "cell_type": "code",
   "execution_count": 4,
   "metadata": {},
   "outputs": [],
   "source": [
    "for ticker in tickers:\n",
    "    url = finwiz_url + ticker\n",
    "    req = Request(url=url,headers={'user-agent': 'my-app/0.0.1'}) \n",
    "    resp = urlopen(req)    \n",
    "    html = BeautifulSoup(resp, features=\"lxml\")\n",
    "    news_table = html.find(id='news-table')\n",
    "    news_tables[ticker] = news_table"
   ]
  },
  {
   "cell_type": "code",
   "execution_count": 6,
   "metadata": {},
   "outputs": [
    {
     "name": "stdout",
     "output_type": "stream",
     "text": [
      "\n",
      "\n",
      "Recent News Headlines for AAPL: \n",
      "Dow Jones Futures Tumble On New Covid Strain; Stock Market Rally Mulls Stimulus Deal Vote, 3 Dow Giants Jump ( Dec-21-20 07:47AM )\n",
      "Tesla, Stimulus, Coronavirus, Apple - 5 Things You Must Know Monday ( 07:22AM )\n",
      "Facebooks campaign against Apple is a laughable distraction tactic, says privacy group ( 07:15AM )\n",
      "\n",
      "\n",
      "Recent News Headlines for MSFT: \n",
      "Tesla is technically the 'Spiders' 5th highest weighted component ( Dec-21-20 06:44AM )\n",
      "Here's What You Need To Know About Cyberattack Against US ( Dec-20-20 04:43PM )\n",
      "10 Best Stocks To Invest In Right Now According To Tech Billionaire ( 03:04PM )\n",
      "\n",
      "\n",
      "Recent News Headlines for AMZN: \n",
      "Better Buy: Amazon vs. Nike ( Dec-21-20 07:42AM )\n",
      "The Queens Christmas speech to be broadcast on Amazons Alexa devices ( 07:21AM )\n",
      "Tesla is technically the 'Spiders' 5th highest weighted component ( 06:44AM )\n"
     ]
    }
   ],
   "source": [
    "try:\n",
    "    for ticker in tickers:\n",
    "        df = news_tables[ticker]\n",
    "        df_tr = df.findAll('tr')\n",
    "    \n",
    "        print ('\\n')\n",
    "        print ('Recent News Headlines for {}: '.format(ticker))\n",
    "        \n",
    "        for i, table_row in enumerate(df_tr):\n",
    "            a_text = table_row.a.text\n",
    "            td_text = table_row.td.text\n",
    "            td_text = td_text.strip()\n",
    "            print(a_text,'(',td_text,')')\n",
    "            if i == n-1:\n",
    "                break\n",
    "except KeyError:\n",
    "    pass"
   ]
  },
  {
   "cell_type": "code",
   "execution_count": 7,
   "metadata": {},
   "outputs": [],
   "source": [
    "# Iterate through the news\n",
    "parsed_news = []\n",
    "for file_name, news_table in news_tables.items():\n",
    "    for x in news_table.findAll('tr'):\n",
    "        text = x.a.get_text() \n",
    "        date_scrape = x.td.text.split()\n",
    "\n",
    "        if len(date_scrape) == 1:\n",
    "            time = date_scrape[0]\n",
    "            \n",
    "        else:\n",
    "            date = date_scrape[0]\n",
    "            time = date_scrape[1]\n",
    "\n",
    "        ticker = file_name.split('_')[0]\n",
    "        \n",
    "        parsed_news.append([ticker, date, time, text])"
   ]
  },
  {
   "cell_type": "code",
   "execution_count": 10,
   "metadata": {},
   "outputs": [],
   "source": [
    "# Sentiment Analysis\n",
    "analyzer = SentimentIntensityAnalyzer()\n",
    "\n",
    "columns = ['Ticker', 'Date', 'Time', 'Headline']\n",
    "news = pd.DataFrame(parsed_news, columns=columns)\n",
    "scores = news['Headline'].apply(analyzer.polarity_scores).tolist()\n",
    "\n",
    "df_scores = pd.DataFrame(scores)\n",
    "news = news.join(df_scores, rsuffix='_right')"
   ]
  },
  {
   "cell_type": "code",
   "execution_count": 34,
   "metadata": {},
   "outputs": [],
   "source": [
    "news.to_csv('hl_12_21.csv')"
   ]
  },
  {
   "cell_type": "code",
   "execution_count": 11,
   "metadata": {},
   "outputs": [],
   "source": [
    "# View Data \n",
    "news['Date'] = pd.to_datetime(news.Date).dt.date\n",
    "\n",
    "unique_ticker = news['Ticker'].unique().tolist()\n",
    "news_dict = {name: news.loc[news['Ticker'] == name] for name in unique_ticker}\n"
   ]
  },
  {
   "cell_type": "code",
   "execution_count": 12,
   "metadata": {},
   "outputs": [
    {
     "name": "stdout",
     "output_type": "stream",
     "text": [
      "\n",
      "\n",
      "              Date     Time    neg    neu    pos  compound\n",
      "Ticker                                                    \n",
      "AAPL    2020-12-21  07:47AM  0.066  0.934  0.000   -0.0516\n",
      "AAPL    2020-12-21  07:22AM  0.000  1.000  0.000    0.0000\n",
      "AAPL    2020-12-21  07:15AM  0.203  0.703  0.094   -0.3400\n",
      "AAPL    2020-12-21  06:44AM  0.000  1.000  0.000    0.0000\n",
      "AAPL    2020-12-21  03:17AM  0.246  0.754  0.000   -0.5994\n",
      "\n",
      "\n",
      "              Date     Time  neg    neu    pos  compound\n",
      "Ticker                                                  \n",
      "MSFT    2020-12-21  06:44AM  0.0  1.000  0.000    0.0000\n",
      "MSFT    2020-12-20  04:43PM  0.0  1.000  0.000    0.0000\n",
      "MSFT    2020-12-20  03:04PM  0.0  0.724  0.276    0.6369\n",
      "MSFT    2020-12-20  12:09PM  0.0  0.727  0.273    0.3875\n",
      "MSFT    2020-12-20  11:10AM  0.0  0.811  0.189    0.2732\n",
      "\n",
      "\n",
      "              Date     Time    neg    neu    pos  compound\n",
      "Ticker                                                    \n",
      "AMZN    2020-12-21  07:42AM  0.000  0.395  0.605    0.5574\n",
      "AMZN    2020-12-21  07:21AM  0.099  0.901  0.000   -0.0258\n",
      "AMZN    2020-12-21  06:44AM  0.000  1.000  0.000    0.0000\n",
      "AMZN    2020-12-21  03:00AM  0.219  0.781  0.000   -0.1027\n",
      "AMZN    2020-12-21  02:00AM  0.186  0.705  0.109   -0.2960\n"
     ]
    }
   ],
   "source": [
    "values = []\n",
    "for ticker in tickers: \n",
    "    dataframe = news_dict[ticker]\n",
    "    dataframe = dataframe.set_index('Ticker')\n",
    "    dataframe = dataframe.drop(columns = ['Headline'])\n",
    "    print ('\\n')\n",
    "    print (dataframe.head())\n",
    "    \n",
    "    mean = round(dataframe['compound'].mean(), 2)\n",
    "    values.append(mean)"
   ]
  },
  {
   "cell_type": "code",
   "execution_count": 13,
   "metadata": {},
   "outputs": [
    {
     "name": "stdout",
     "output_type": "stream",
     "text": [
      "\n",
      "\n",
      "        Mean Sentiment\n",
      "Ticker                \n",
      "AMZN              0.18\n",
      "MSFT              0.09\n",
      "AAPL             -0.01\n"
     ]
    }
   ],
   "source": [
    "df = pd.DataFrame(list(zip(tickers, values)), columns =['Ticker', 'Mean Sentiment']) \n",
    "df = df.set_index('Ticker')\n",
    "df = df.sort_values('Mean Sentiment', ascending=False)\n",
    "print ('\\n')\n",
    "print (df)"
   ]
  },
  {
   "cell_type": "code",
   "execution_count": 14,
   "metadata": {},
   "outputs": [
    {
     "name": "stdout",
     "output_type": "stream",
     "text": [
      "ok!\n"
     ]
    }
   ],
   "source": [
    "# New words and values\n",
    "new_words = {\n",
    "    'crushes': 10,\n",
    "    'beats': 5,\n",
    "    'misses': -5,\n",
    "    'trouble': -10,\n",
    "    'falls': -100,\n",
    "}\n",
    "# Instantiate the sentiment intensity analyzer with the existing lexicon\n",
    "vader = SentimentIntensityAnalyzer()\n",
    "# Update the lexicon\n",
    "vader.lexicon.update(new_words)\n",
    "\n",
    "print('ok!')"
   ]
  },
  {
   "cell_type": "markdown",
   "metadata": {
    "dc": {
     "key": "31"
    },
    "deletable": false,
    "editable": false,
    "run_control": {
     "frozen": true
    },
    "tags": [
     "context"
    ]
   },
   "source": [
    "## 5. BREAKING NEWS: NLTK Crushes Sentiment Estimates\n",
    "<p>Now that we have the data and the algorithm loaded, we will get to the core of the matter: programmatically predicting sentiment out of news headlines! Luckily for us, VADER is very high level so, in this case, we will not adjust the model further<sup>*</sup> other than the lexicon additions from before.</p>\n",
    "<p><sup>*</sup>VADER \"out-of-the-box\" with some extra lexicon would likely translate into <strong>heavy losses</strong> with real money. A real sentiment analysis tool with chances of being profitable will require a very extensive and dedicated to finance news lexicon. Furthermore, it might also not be enough using a pre-packaged model like VADER.</p>"
   ]
  },
  {
   "cell_type": "code",
   "execution_count": 18,
   "metadata": {
    "scrolled": true
   },
   "outputs": [
    {
     "data": {
      "text/html": [
       "<div>\n",
       "<style scoped>\n",
       "    .dataframe tbody tr th:only-of-type {\n",
       "        vertical-align: middle;\n",
       "    }\n",
       "\n",
       "    .dataframe tbody tr th {\n",
       "        vertical-align: top;\n",
       "    }\n",
       "\n",
       "    .dataframe thead th {\n",
       "        text-align: right;\n",
       "    }\n",
       "</style>\n",
       "<table border=\"1\" class=\"dataframe\">\n",
       "  <thead>\n",
       "    <tr style=\"text-align: right;\">\n",
       "      <th></th>\n",
       "      <th>Ticker</th>\n",
       "      <th>Date</th>\n",
       "      <th>Time</th>\n",
       "      <th>Headline</th>\n",
       "      <th>neg</th>\n",
       "      <th>neu</th>\n",
       "      <th>pos</th>\n",
       "      <th>compound</th>\n",
       "    </tr>\n",
       "  </thead>\n",
       "  <tbody>\n",
       "    <tr>\n",
       "      <th>0</th>\n",
       "      <td>AAPL</td>\n",
       "      <td>2020-12-21</td>\n",
       "      <td>07:47AM</td>\n",
       "      <td>Dow Jones Futures Tumble On New Covid Strain; ...</td>\n",
       "      <td>0.066</td>\n",
       "      <td>0.934</td>\n",
       "      <td>0.000</td>\n",
       "      <td>-0.0516</td>\n",
       "    </tr>\n",
       "    <tr>\n",
       "      <th>1</th>\n",
       "      <td>AAPL</td>\n",
       "      <td>2020-12-21</td>\n",
       "      <td>07:22AM</td>\n",
       "      <td>Tesla, Stimulus, Coronavirus, Apple - 5 Things...</td>\n",
       "      <td>0.000</td>\n",
       "      <td>1.000</td>\n",
       "      <td>0.000</td>\n",
       "      <td>0.0000</td>\n",
       "    </tr>\n",
       "    <tr>\n",
       "      <th>2</th>\n",
       "      <td>AAPL</td>\n",
       "      <td>2020-12-21</td>\n",
       "      <td>07:15AM</td>\n",
       "      <td>Facebooks campaign against Apple is a laughabl...</td>\n",
       "      <td>0.203</td>\n",
       "      <td>0.703</td>\n",
       "      <td>0.094</td>\n",
       "      <td>-0.3400</td>\n",
       "    </tr>\n",
       "    <tr>\n",
       "      <th>3</th>\n",
       "      <td>AAPL</td>\n",
       "      <td>2020-12-21</td>\n",
       "      <td>06:44AM</td>\n",
       "      <td>Tesla is technically the 'Spiders' 5th highest...</td>\n",
       "      <td>0.000</td>\n",
       "      <td>1.000</td>\n",
       "      <td>0.000</td>\n",
       "      <td>0.0000</td>\n",
       "    </tr>\n",
       "    <tr>\n",
       "      <th>4</th>\n",
       "      <td>AAPL</td>\n",
       "      <td>2020-12-21</td>\n",
       "      <td>03:17AM</td>\n",
       "      <td>iPhone 'Zero Click' Vulnerability Exploited By...</td>\n",
       "      <td>0.246</td>\n",
       "      <td>0.754</td>\n",
       "      <td>0.000</td>\n",
       "      <td>-0.5994</td>\n",
       "    </tr>\n",
       "    <tr>\n",
       "      <th>...</th>\n",
       "      <td>...</td>\n",
       "      <td>...</td>\n",
       "      <td>...</td>\n",
       "      <td>...</td>\n",
       "      <td>...</td>\n",
       "      <td>...</td>\n",
       "      <td>...</td>\n",
       "      <td>...</td>\n",
       "    </tr>\n",
       "    <tr>\n",
       "      <th>295</th>\n",
       "      <td>AMZN</td>\n",
       "      <td>2020-12-17</td>\n",
       "      <td>03:01AM</td>\n",
       "      <td>Amazon Offers Customers Free, Convenient and E...</td>\n",
       "      <td>0.000</td>\n",
       "      <td>0.479</td>\n",
       "      <td>0.521</td>\n",
       "      <td>0.8709</td>\n",
       "    </tr>\n",
       "    <tr>\n",
       "      <th>296</th>\n",
       "      <td>AMZN</td>\n",
       "      <td>2020-12-16</td>\n",
       "      <td>09:44PM</td>\n",
       "      <td>Roku Finally Reaches a Deal for HBO Max</td>\n",
       "      <td>0.000</td>\n",
       "      <td>0.833</td>\n",
       "      <td>0.167</td>\n",
       "      <td>0.0516</td>\n",
       "    </tr>\n",
       "    <tr>\n",
       "      <th>297</th>\n",
       "      <td>AMZN</td>\n",
       "      <td>2020-12-16</td>\n",
       "      <td>07:26PM</td>\n",
       "      <td>Retailer Wish Drops in Trading Debut After IPO...</td>\n",
       "      <td>0.000</td>\n",
       "      <td>0.748</td>\n",
       "      <td>0.252</td>\n",
       "      <td>0.4019</td>\n",
       "    </tr>\n",
       "    <tr>\n",
       "      <th>298</th>\n",
       "      <td>AMZN</td>\n",
       "      <td>2020-12-16</td>\n",
       "      <td>06:33PM</td>\n",
       "      <td>Amazon Alabama Workers Get Chance for First-in...</td>\n",
       "      <td>0.000</td>\n",
       "      <td>0.619</td>\n",
       "      <td>0.381</td>\n",
       "      <td>0.4019</td>\n",
       "    </tr>\n",
       "    <tr>\n",
       "      <th>299</th>\n",
       "      <td>AMZN</td>\n",
       "      <td>2020-12-16</td>\n",
       "      <td>04:39PM</td>\n",
       "      <td>Shopify Stock Pops, Analyst Sees Potential For...</td>\n",
       "      <td>0.000</td>\n",
       "      <td>1.000</td>\n",
       "      <td>0.000</td>\n",
       "      <td>0.0000</td>\n",
       "    </tr>\n",
       "  </tbody>\n",
       "</table>\n",
       "<p>300 rows × 8 columns</p>\n",
       "</div>"
      ],
      "text/plain": [
       "    Ticker        Date     Time  \\\n",
       "0     AAPL  2020-12-21  07:47AM   \n",
       "1     AAPL  2020-12-21  07:22AM   \n",
       "2     AAPL  2020-12-21  07:15AM   \n",
       "3     AAPL  2020-12-21  06:44AM   \n",
       "4     AAPL  2020-12-21  03:17AM   \n",
       "..     ...         ...      ...   \n",
       "295   AMZN  2020-12-17  03:01AM   \n",
       "296   AMZN  2020-12-16  09:44PM   \n",
       "297   AMZN  2020-12-16  07:26PM   \n",
       "298   AMZN  2020-12-16  06:33PM   \n",
       "299   AMZN  2020-12-16  04:39PM   \n",
       "\n",
       "                                              Headline    neg    neu    pos  \\\n",
       "0    Dow Jones Futures Tumble On New Covid Strain; ...  0.066  0.934  0.000   \n",
       "1    Tesla, Stimulus, Coronavirus, Apple - 5 Things...  0.000  1.000  0.000   \n",
       "2    Facebooks campaign against Apple is a laughabl...  0.203  0.703  0.094   \n",
       "3    Tesla is technically the 'Spiders' 5th highest...  0.000  1.000  0.000   \n",
       "4    iPhone 'Zero Click' Vulnerability Exploited By...  0.246  0.754  0.000   \n",
       "..                                                 ...    ...    ...    ...   \n",
       "295  Amazon Offers Customers Free, Convenient and E...  0.000  0.479  0.521   \n",
       "296            Roku Finally Reaches a Deal for HBO Max  0.000  0.833  0.167   \n",
       "297  Retailer Wish Drops in Trading Debut After IPO...  0.000  0.748  0.252   \n",
       "298  Amazon Alabama Workers Get Chance for First-in...  0.000  0.619  0.381   \n",
       "299  Shopify Stock Pops, Analyst Sees Potential For...  0.000  1.000  0.000   \n",
       "\n",
       "     compound  \n",
       "0     -0.0516  \n",
       "1      0.0000  \n",
       "2     -0.3400  \n",
       "3      0.0000  \n",
       "4     -0.5994  \n",
       "..        ...  \n",
       "295    0.8709  \n",
       "296    0.0516  \n",
       "297    0.4019  \n",
       "298    0.4019  \n",
       "299    0.0000  \n",
       "\n",
       "[300 rows x 8 columns]"
      ]
     },
     "execution_count": 18,
     "metadata": {},
     "output_type": "execute_result"
    }
   ],
   "source": [
    "news"
   ]
  },
  {
   "cell_type": "code",
   "execution_count": 25,
   "metadata": {},
   "outputs": [
    {
     "data": {
      "text/plain": [
       "<AxesSubplot:xlabel='Date'>"
      ]
     },
     "execution_count": 25,
     "metadata": {},
     "output_type": "execute_result"
    },
    {
     "data": {
      "image/png": "[encoded data removed]",
      "text/plain": [
       "<Figure size 720x360 with 1 Axes>"
      ]
     },
     "metadata": {
      "needs_background": "light"
     },
     "output_type": "display_data"
    }
   ],
   "source": [
    "# Group by date and ticker columns from scored_news and calculate the mean\n",
    "mean_c = news.groupby(['Date', 'Ticker']).mean()\n",
    "\n",
    "# Unstack the column ticker\n",
    "mean_c = mean_c.unstack('Ticker')\n",
    "\n",
    "# Get the cross-section of compound in the 'columns' axis\n",
    "mean_c = mean_c.xs('compound', axis='columns')\n",
    "# Plot a bar chart with pandas\n",
    "\n",
    "mean_c.plot(kind='bar', figsize=(10,5), width=1)"
   ]
  },
  {
   "cell_type": "markdown",
   "metadata": {
    "dc": {
     "key": "45"
    },
    "deletable": false,
    "editable": false,
    "run_control": {
     "frozen": true
    },
    "tags": [
     "context"
    ]
   },
   "source": [
    "## 7. Weekends and duplicates\n",
    "<p>What happened to Tesla on November 22nd? Since we happen to have the headlines inside our <code>DataFrame</code>, a quick peek reveals that there are a few problems with that particular day: </p>\n",
    "<ul>\n",
    "<li>There are only 5 headlines for that day.</li>\n",
    "<li>Two headlines are verbatim the same as another but from another news outlet.</li>\n",
    "</ul>\n",
    "<p>Let's clean up the dataset a bit, but not too much! While some headlines are the same news piece from different sources, the fact that they are written differently could provide different perspectives on the same story. Plus, when one piece of news is more important, it tends to get more headlines from multiple sources. What we want to get rid of is verbatim copied headlines, as these are very likely coming from the same journalist and are just being \"forwarded\" around, so to speak.</p>"
   ]
  },
  {
   "cell_type": "markdown",
   "metadata": {},
   "source": [
    "## 7. Weekends and duplicates\n",
    "<p>What happened to AMZN on Dec 21st? Since we happen to have the headlines inside our <code>DataFrame</code>, a quick peek reveals that there are a few problems with that particular day: </p>\n",
    "<ul>\n",
    "<li>There are only 5 headlines for that day.</li>\n",
    "<li>Two headlines are verbatim the same as another but from another news outlet.</li>\n",
    "</ul>\n",
    "<p>Let's clean up the dataset a bit, but not too much! While some headlines are the same news piece from different sources, the fact that they are written differently could provide different perspectives on the same story. Plus, when one piece of news is more important, it tends to get more headlines from multiple sources. What we want to get rid of is verbatim copied headlines, as these are very likely coming from the same journalist and are just being \"forwarded\" around, so to speak.</p>"
   ]
  },
  {
   "cell_type": "code",
   "execution_count": 27,
   "metadata": {},
   "outputs": [
    {
     "name": "stdout",
     "output_type": "stream",
     "text": [
      "Before we had 300 headlines, now we have 297\n"
     ]
    }
   ],
   "source": [
    "# Count the number of headlines in scored_news (store as integer)\n",
    "num_news_before = news['Headline'].count()\n",
    "\n",
    "# Drop duplicates based on ticker and headline\n",
    "scored_news_clean = news.drop_duplicates(subset=['Ticker','Headline'])\n",
    "                      \n",
    "# Count number of headlines after dropping duplicates\n",
    "num_news_after = scored_news_clean['Headline'].count()\n",
    "                                                        \n",
    "# Print before and after numbers to get an idea of how we did \n",
    "print(f\"Before we had {num_news_before} headlines, now we have {num_news_after}\")"
   ]
  },
  {
   "cell_type": "markdown",
   "metadata": {},
   "source": [
    "## Sentiment on one single trading day and stock"
   ]
  },
  {
   "cell_type": "code",
   "execution_count": 32,
   "metadata": {},
   "outputs": [
    {
     "name": "stdout",
     "output_type": "stream",
     "text": [
      "<class 'pandas.core.frame.DataFrame'>\n",
      "Index: 8 entries, 00:28:00 to 07:42:00\n",
      "Data columns (total 5 columns):\n",
      " #   Column    Non-Null Count  Dtype  \n",
      "---  ------    --------------  -----  \n",
      " 0   Headline  8 non-null      object \n",
      " 1   neg       8 non-null      float64\n",
      " 2   neu       8 non-null      float64\n",
      " 3   pos       8 non-null      float64\n",
      " 4   compound  8 non-null      float64\n",
      "dtypes: float64(4), object(1)\n",
      "memory usage: 384.0+ bytes\n",
      "None\n"
     ]
    }
   ],
   "source": [
    "# Set the index to ticker and date\n",
    "single_day = scored_news_clean.set_index(['Ticker', 'Date'])\n",
    "# Cross-section the fb row\n",
    "single_day = single_day.xs('AMZN')\n",
    "\n",
    "# Select the 3rd of January of 2019\n",
    "single_day = single_day['2020-12-21']\n",
    "\n",
    "# Convert the datetime string to just the time\n",
    "single_day['Time'] = pd.to_datetime(single_day['Time']).dt.time\n",
    "\n",
    "# Set the index to time and \n",
    "single_day = single_day.set_index('Time')\n",
    "\n",
    "# Sort it\n",
    "single_day = single_day.sort_index()\n",
    "print(single_day.info())"
   ]
  },
  {
   "cell_type": "code",
   "execution_count": 33,
   "metadata": {},
   "outputs": [
    {
     "data": {
      "text/plain": [
       "<AxesSubplot:xlabel='Time'>"
      ]
     },
     "execution_count": 33,
     "metadata": {},
     "output_type": "execute_result"
    },
    {
     "data": {
      "image/png": "[encoded data removed]",
      "text/plain": [
       "<Figure size 720x360 with 1 Axes>"
      ]
     },
     "metadata": {
      "needs_background": "light"
     },
     "output_type": "display_data"
    }
   ],
   "source": [
    "TITLE = \"Positive, negative and neutral sentiment for AMZN on 2020-12-21\"\n",
    "COLORS = [\"red\", \"orange\", \"green\"]\n",
    "\n",
    "# Drop the columns that aren't useful for the plot\n",
    "plot_day = single_day.drop(['Headline', 'compound'], axis=1)\n",
    "\n",
    "# Change the column names to 'negative', 'positive', and 'neutral'\n",
    "plot_day.columns = ['negative', 'positive', 'neutral']\n",
    "\n",
    "# Plot a stacked bar chart\n",
    "plot_day.plot(kind='bar', color=COLORS, figsize=(10,5), width=1)\n"
   ]
  }
 ],
 "metadata": {
  "kernelspec": {
   "display_name": "Python 3",
   "language": "python",
   "name": "python3"
  },
  "language_info": {
   "codemirror_mode": {
    "name": "ipython",
    "version": 3
   },
   "file_extension": ".py",
   "mimetype": "text/x-python",
   "name": "python",
   "nbconvert_exporter": "python",
   "pygments_lexer": "ipython3",
   "version": "3.7.6"
  }
 },
 "nbformat": 4,
 "nbformat_minor": 4
}
