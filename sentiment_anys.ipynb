{
 "cells": [
  {
   "cell_type": "markdown",
   "metadata": {},
   "source": [
    "# Impact of News Sentiment on Stocks"
   ]
  },
  {
   "cell_type": "markdown",
   "metadata": {},
   "source": [
    "### 1. News Sentiment Analysis\n",
    "### 2. Stock Analysis\n",
    "### 3. Sentiment and Stock Plotting"
   ]
  },
  {
   "cell_type": "markdown",
   "metadata": {},
   "source": [
    "## 1. News Sentiment Analysis\n",
    "\n",
    "Chose SPY\n",
    "Top 3 weighted companies:\n",
    "\n",
    "AAPL, MSFT, AMZN"
   ]
  },
  {
   "cell_type": "code",
   "execution_count": 1,
   "metadata": {},
   "outputs": [],
   "source": [
    "import numpy as np\n",
    "import pandas as pd\n",
    "from bs4 import BeautifulSoup\n",
    "import matplotlib.pyplot as plt\n",
    "from urllib.request import urlopen\n",
    "from urllib.request import Request\n",
    "from nltk.sentiment.vader import SentimentIntensityAnalyzer\n",
    "import nltk\n",
    "# nltk.download('vader_lexicon')\n",
    "import matplotlib.pyplot as plt\n",
    "import matplotlib.dates as mdates\n",
    "import seaborn as sns\n",
    "\n",
    "%matplotlib inline\n",
    "import yfinance as yf\n",
    "# from statsmodels.tsa.arima.model import ARIMA\n"
   ]
  },
  {
   "cell_type": "code",
   "execution_count": 2,
   "metadata": {},
   "outputs": [],
   "source": [
    "# params\n",
    "n=3 # number of headlines displayed per ticker\n",
    "tickers=['AAPL','MSFT','AMZN']"
   ]
  },
  {
   "cell_type": "code",
   "execution_count": 3,
   "metadata": {},
   "outputs": [],
   "source": [
    "# Get Data\n",
    "finwiz_url = 'https://finviz.com/quote.ashx?t='\n",
    "news_tables = {}"
   ]
  },
  {
   "cell_type": "code",
   "execution_count": 4,
   "metadata": {},
   "outputs": [],
   "source": [
    "for ticker in tickers:\n",
    "    url = finwiz_url + ticker\n",
    "    req = Request(url=url,headers={'user-agent': 'my-app/0.0.1'}) \n",
    "    resp = urlopen(req)    \n",
    "    html = BeautifulSoup(resp, features=\"lxml\")\n",
    "    news_table = html.find(id='news-table')\n",
    "    news_tables[ticker] = news_table"
   ]
  },
  {
   "cell_type": "code",
   "execution_count": 5,
   "metadata": {},
   "outputs": [
    {
     "name": "stdout",
     "output_type": "stream",
     "text": [
      "\n",
      "\n",
      "Recent News Headlines for AAPL: \n",
      "Dow Jones Futures: Stock Market Rally Takes Trump's Stimulus Deal Veto Threat In Stride; AMD, Apple Chipmakers Near Buy Points ( Dec-23-20 05:49PM )\n",
      "Biggest risks facing tech in 2021 ( 05:20PM )\n",
      "Dow Jones Stocks To Buy And Watch In December 2020: Apple Approaches New Buy Point ( 04:55PM )\n",
      "\n",
      "\n",
      "Recent News Headlines for MSFT: \n",
      "Cyberpunk 2077s Opening Sales Were Below Expectations. What It Means for CD Projekt Stock. ( Dec-23-20 04:59PM )\n",
      "Dow Jones Fades As Nasdaq Reverses Lower; These Stocks Trade In Buy Zones ( 04:21PM )\n",
      "15 Biggest Software Companies in the World ( 02:37PM )\n",
      "\n",
      "\n",
      "Recent News Headlines for AMZN: \n",
      "After Incredible December Gains, Traders Cashed Out of Bitcoin Mining Stocks Today ( Dec-23-20 05:44PM )\n",
      "Biggest risks facing tech in 2021 ( 05:20PM )\n",
      "The Zacks Analyst Blog Highlights: AMZN, WMT, UNH, MS and GSK ( 02:39PM )\n"
     ]
    }
   ],
   "source": [
    "try:\n",
    "    for ticker in tickers:\n",
    "        df = news_tables[ticker]\n",
    "        df_tr = df.findAll('tr')\n",
    "    \n",
    "        print ('\\n')\n",
    "        print ('Recent News Headlines for {}: '.format(ticker))\n",
    "        \n",
    "        for i, table_row in enumerate(df_tr):\n",
    "            a_text = table_row.a.text\n",
    "            td_text = table_row.td.text\n",
    "            td_text = td_text.strip()\n",
    "            print(a_text,'(',td_text,')')\n",
    "            if i == n-1:\n",
    "                break\n",
    "except KeyError:\n",
    "    pass"
   ]
  },
  {
   "cell_type": "code",
   "execution_count": 6,
   "metadata": {},
   "outputs": [],
   "source": [
    "# Iterate through the news\n",
    "parsed_news = []\n",
    "for file_name, news_table in news_tables.items():\n",
    "    for x in news_table.findAll('tr'):\n",
    "        text = x.a.get_text() \n",
    "        date_scrape = x.td.text.split()\n",
    "\n",
    "        if len(date_scrape) == 1:\n",
    "            time = date_scrape[0]\n",
    "            \n",
    "        else:\n",
    "            date = date_scrape[0]\n",
    "            time = date_scrape[1]\n",
    "\n",
    "        ticker = file_name.split('_')[0]\n",
    "        \n",
    "        parsed_news.append([ticker, date, time, text])"
   ]
  },
  {
   "cell_type": "code",
   "execution_count": 7,
   "metadata": {},
   "outputs": [],
   "source": [
    "# Sentiment Analysis\n",
    "analyzer = SentimentIntensityAnalyzer()\n",
    "\n",
    "columns = ['Ticker', 'Date', 'Time', 'Headline']\n",
    "news = pd.DataFrame(parsed_news, columns=columns)\n",
    "scores = news['Headline'].apply(analyzer.polarity_scores).tolist()\n",
    "\n",
    "df_scores = pd.DataFrame(scores)\n",
    "news = news.join(df_scores, rsuffix='_right')"
   ]
  },
  {
   "cell_type": "code",
   "execution_count": 8,
   "metadata": {},
   "outputs": [
    {
     "data": {
      "text/html": [
       "<div>\n",
       "<style scoped>\n",
       "    .dataframe tbody tr th:only-of-type {\n",
       "        vertical-align: middle;\n",
       "    }\n",
       "\n",
       "    .dataframe tbody tr th {\n",
       "        vertical-align: top;\n",
       "    }\n",
       "\n",
       "    .dataframe thead th {\n",
       "        text-align: right;\n",
       "    }\n",
       "</style>\n",
       "<table border=\"1\" class=\"dataframe\">\n",
       "  <thead>\n",
       "    <tr style=\"text-align: right;\">\n",
       "      <th></th>\n",
       "      <th>Ticker</th>\n",
       "      <th>Date</th>\n",
       "      <th>Time</th>\n",
       "      <th>Headline</th>\n",
       "      <th>neg</th>\n",
       "      <th>neu</th>\n",
       "      <th>pos</th>\n",
       "      <th>compound</th>\n",
       "    </tr>\n",
       "  </thead>\n",
       "  <tbody>\n",
       "    <tr>\n",
       "      <th>0</th>\n",
       "      <td>AAPL</td>\n",
       "      <td>Dec-23-20</td>\n",
       "      <td>05:49PM</td>\n",
       "      <td>Dow Jones Futures: Stock Market Rally Takes Tr...</td>\n",
       "      <td>0.152</td>\n",
       "      <td>0.848</td>\n",
       "      <td>0.0</td>\n",
       "      <td>-0.5267</td>\n",
       "    </tr>\n",
       "    <tr>\n",
       "      <th>1</th>\n",
       "      <td>AAPL</td>\n",
       "      <td>Dec-23-20</td>\n",
       "      <td>05:20PM</td>\n",
       "      <td>Biggest risks facing tech in 2021</td>\n",
       "      <td>0.296</td>\n",
       "      <td>0.704</td>\n",
       "      <td>0.0</td>\n",
       "      <td>-0.2732</td>\n",
       "    </tr>\n",
       "    <tr>\n",
       "      <th>2</th>\n",
       "      <td>AAPL</td>\n",
       "      <td>Dec-23-20</td>\n",
       "      <td>04:55PM</td>\n",
       "      <td>Dow Jones Stocks To Buy And Watch In December ...</td>\n",
       "      <td>0.000</td>\n",
       "      <td>1.000</td>\n",
       "      <td>0.0</td>\n",
       "      <td>0.0000</td>\n",
       "    </tr>\n",
       "    <tr>\n",
       "      <th>3</th>\n",
       "      <td>AAPL</td>\n",
       "      <td>Dec-23-20</td>\n",
       "      <td>04:09PM</td>\n",
       "      <td>Tesla Stock Now Faces Its Most Serious Potenti...</td>\n",
       "      <td>0.397</td>\n",
       "      <td>0.603</td>\n",
       "      <td>0.0</td>\n",
       "      <td>-0.6436</td>\n",
       "    </tr>\n",
       "    <tr>\n",
       "      <th>4</th>\n",
       "      <td>AAPL</td>\n",
       "      <td>Dec-23-20</td>\n",
       "      <td>03:31PM</td>\n",
       "      <td>Apple Car would take the tech giant to the nex...</td>\n",
       "      <td>0.000</td>\n",
       "      <td>1.000</td>\n",
       "      <td>0.0</td>\n",
       "      <td>0.0000</td>\n",
       "    </tr>\n",
       "  </tbody>\n",
       "</table>\n",
       "</div>"
      ],
      "text/plain": [
       "  Ticker       Date     Time  \\\n",
       "0   AAPL  Dec-23-20  05:49PM   \n",
       "1   AAPL  Dec-23-20  05:20PM   \n",
       "2   AAPL  Dec-23-20  04:55PM   \n",
       "3   AAPL  Dec-23-20  04:09PM   \n",
       "4   AAPL  Dec-23-20  03:31PM   \n",
       "\n",
       "                                            Headline    neg    neu  pos  \\\n",
       "0  Dow Jones Futures: Stock Market Rally Takes Tr...  0.152  0.848  0.0   \n",
       "1                  Biggest risks facing tech in 2021  0.296  0.704  0.0   \n",
       "2  Dow Jones Stocks To Buy And Watch In December ...  0.000  1.000  0.0   \n",
       "3  Tesla Stock Now Faces Its Most Serious Potenti...  0.397  0.603  0.0   \n",
       "4  Apple Car would take the tech giant to the nex...  0.000  1.000  0.0   \n",
       "\n",
       "   compound  \n",
       "0   -0.5267  \n",
       "1   -0.2732  \n",
       "2    0.0000  \n",
       "3   -0.6436  \n",
       "4    0.0000  "
      ]
     },
     "execution_count": 8,
     "metadata": {},
     "output_type": "execute_result"
    }
   ],
   "source": [
    "news.head()"
   ]
  },
  {
   "cell_type": "code",
   "execution_count": 9,
   "metadata": {},
   "outputs": [],
   "source": [
    "news.to_csv('hl_12_23.csv')"
   ]
  },
  {
   "cell_type": "code",
   "execution_count": 10,
   "metadata": {},
   "outputs": [],
   "source": [
    "# View Data \n",
    "news['Date'] = pd.to_datetime(news.Date).dt.date\n",
    "\n",
    "unique_ticker = news['Ticker'].unique().tolist()\n",
    "news_dict = {name: news.loc[news['Ticker'] == name] for name in unique_ticker}\n"
   ]
  },
  {
   "cell_type": "code",
   "execution_count": 11,
   "metadata": {},
   "outputs": [
    {
     "name": "stdout",
     "output_type": "stream",
     "text": [
      "\n",
      "\n",
      "              Date     Time    neg    neu  pos  compound\n",
      "Ticker                                                  \n",
      "AAPL    2020-12-23  05:49PM  0.152  0.848  0.0   -0.5267\n",
      "AAPL    2020-12-23  05:20PM  0.296  0.704  0.0   -0.2732\n",
      "AAPL    2020-12-23  04:55PM  0.000  1.000  0.0    0.0000\n",
      "AAPL    2020-12-23  04:09PM  0.397  0.603  0.0   -0.6436\n",
      "AAPL    2020-12-23  03:31PM  0.000  1.000  0.0    0.0000\n",
      "\n",
      "\n",
      "              Date     Time    neg    neu  pos  compound\n",
      "Ticker                                                  \n",
      "MSFT    2020-12-23  04:59PM  0.000  1.000  0.0     0.000\n",
      "MSFT    2020-12-23  04:21PM  0.155  0.845  0.0    -0.296\n",
      "MSFT    2020-12-23  02:37PM  0.000  1.000  0.0     0.000\n",
      "MSFT    2020-12-23  02:14PM  0.000  1.000  0.0     0.000\n",
      "MSFT    2020-12-23  12:56PM  0.000  1.000  0.0     0.000\n",
      "\n",
      "\n",
      "              Date     Time    neg    neu    pos  compound\n",
      "Ticker                                                    \n",
      "AMZN    2020-12-23  05:44PM  0.000  0.821  0.179    0.3400\n",
      "AMZN    2020-12-23  05:20PM  0.296  0.704  0.000   -0.2732\n",
      "AMZN    2020-12-23  02:39PM  0.000  1.000  0.000    0.0000\n",
      "AMZN    2020-12-23  02:30PM  0.341  0.659  0.000   -0.4767\n",
      "AMZN    2020-12-23  01:15PM  0.000  1.000  0.000    0.0000\n"
     ]
    }
   ],
   "source": [
    "values = []\n",
    "for ticker in tickers: \n",
    "    dataframe = news_dict[ticker]\n",
    "    dataframe = dataframe.set_index('Ticker')\n",
    "    dataframe = dataframe.drop(columns = ['Headline'])\n",
    "    print ('\\n')\n",
    "    print (dataframe.head())\n",
    "    \n",
    "    mean = round(dataframe['compound'].mean(), 2)\n",
    "    values.append(mean)"
   ]
  },
  {
   "cell_type": "code",
   "execution_count": 12,
   "metadata": {},
   "outputs": [
    {
     "data": {
      "text/html": [
       "<div>\n",
       "<style scoped>\n",
       "    .dataframe tbody tr th:only-of-type {\n",
       "        vertical-align: middle;\n",
       "    }\n",
       "\n",
       "    .dataframe tbody tr th {\n",
       "        vertical-align: top;\n",
       "    }\n",
       "\n",
       "    .dataframe thead th {\n",
       "        text-align: right;\n",
       "    }\n",
       "</style>\n",
       "<table border=\"1\" class=\"dataframe\">\n",
       "  <thead>\n",
       "    <tr style=\"text-align: right;\">\n",
       "      <th></th>\n",
       "      <th>Mean Sentiment</th>\n",
       "    </tr>\n",
       "    <tr>\n",
       "      <th>Ticker</th>\n",
       "      <th></th>\n",
       "    </tr>\n",
       "  </thead>\n",
       "  <tbody>\n",
       "    <tr>\n",
       "      <th>AMZN</th>\n",
       "      <td>0.17</td>\n",
       "    </tr>\n",
       "    <tr>\n",
       "      <th>AAPL</th>\n",
       "      <td>0.05</td>\n",
       "    </tr>\n",
       "    <tr>\n",
       "      <th>MSFT</th>\n",
       "      <td>0.04</td>\n",
       "    </tr>\n",
       "  </tbody>\n",
       "</table>\n",
       "</div>"
      ],
      "text/plain": [
       "        Mean Sentiment\n",
       "Ticker                \n",
       "AMZN              0.17\n",
       "AAPL              0.05\n",
       "MSFT              0.04"
      ]
     },
     "execution_count": 12,
     "metadata": {},
     "output_type": "execute_result"
    }
   ],
   "source": [
    "df = pd.DataFrame(list(zip(tickers, values)), columns =['Ticker', 'Mean Sentiment']) \n",
    "df = df.set_index('Ticker')\n",
    "df = df.sort_values('Mean Sentiment', ascending=False)\n",
    "# print ('\\n')\n",
    "df.head()"
   ]
  },
  {
   "cell_type": "code",
   "execution_count": 13,
   "metadata": {},
   "outputs": [
    {
     "name": "stdout",
     "output_type": "stream",
     "text": [
      "ok!\n"
     ]
    }
   ],
   "source": [
    "# New words and values\n",
    "new_words = {\n",
    "    'crushes': 10,\n",
    "    'beats': 5,\n",
    "    'misses': -5,\n",
    "    'trouble': -10,\n",
    "    'falls': -100,\n",
    "}\n",
    "# Instantiate the sentiment intensity analyzer with the existing lexicon\n",
    "vader = SentimentIntensityAnalyzer()\n",
    "# Update the lexicon\n",
    "vader.lexicon.update(new_words)\n",
    "\n",
    "print('ok!')"
   ]
  },
  {
   "cell_type": "markdown",
   "metadata": {},
   "source": [
    "<p>Now that we have the data and the algorithm loaded, we will get to the core of the matter: programmatically predicting sentiment out of news headlines! Luckily for us, VADER is very high level so, in this case, we will not adjust the model further<sup>*</sup> other than the lexicon additions from before.</p>\n",
    "<p><sup>*</sup>VADER \"out-of-the-box\" with some extra lexicon would likely translate into <strong>heavy losses</strong> with real money. A real sentiment analysis tool with chances of being profitable will require a very extensive and dedicated to finance news lexicon. Furthermore, it might also not be enough using a pre-packaged model like VADER.</p>"
   ]
  },
  {
   "cell_type": "code",
   "execution_count": 14,
   "metadata": {},
   "outputs": [
    {
     "data": {
      "text/plain": [
       "<AxesSubplot:xlabel='Date'>"
      ]
     },
     "execution_count": 14,
     "metadata": {},
     "output_type": "execute_result"
    },
    {
     "data": {
      "image/png": "[encoded data removed]",
      "text/plain": [
       "<Figure size 720x360 with 1 Axes>"
      ]
     },
     "metadata": {
      "needs_background": "light"
     },
     "output_type": "display_data"
    }
   ],
   "source": [
    "# Group by date and ticker columns from scored_news and calculate the mean\n",
    "mean_c = news.groupby(['Date', 'Ticker']).mean()\n",
    "\n",
    "# Unstack the column ticker\n",
    "mean_c = mean_c.unstack('Ticker')\n",
    "\n",
    "# Get the cross-section of compound in the 'columns' axis\n",
    "mean_c = mean_c.xs('compound', axis='columns')\n",
    "# Plot a bar chart with pandas\n",
    "\n",
    "mean_c.plot(kind='bar', figsize=(10,5), width=1)"
   ]
  },
  {
   "cell_type": "markdown",
   "metadata": {},
   "source": [
    "<p>What happened to AMZN on Dec 21st? Since we happen to have the headlines inside our <code>DataFrame</code>, a quick peek reveals that there are a few problems with that particular day: </p>\n",
    "<ul>\n",
    "<li>There are only 5 headlines for that day.</li>\n",
    "<li>Two headlines are verbatim the same as another but from another news outlet.</li>\n",
    "</ul>\n",
    "<p>Let's clean up the dataset a bit, but not too much! While some headlines are the same news piece from different sources, the fact that they are written differently could provide different perspectives on the same story. Plus, when one piece of news is more important, it tends to get more headlines from multiple sources. What we want to get rid of is verbatim copied headlines, as these are very likely coming from the same journalist and are just being \"forwarded\" around, so to speak.</p>"
   ]
  },
  {
   "cell_type": "code",
   "execution_count": 15,
   "metadata": {},
   "outputs": [
    {
     "name": "stdout",
     "output_type": "stream",
     "text": [
      "Before we had 300 headlines, now we have 298\n"
     ]
    }
   ],
   "source": [
    "# Count the number of headlines in scored_news (store as integer)\n",
    "num_news_before = news['Headline'].count()\n",
    "\n",
    "# Drop duplicates based on ticker and headline\n",
    "scored_news_clean = news.drop_duplicates(subset=['Ticker','Headline'])\n",
    "                      \n",
    "# Count number of headlines after dropping duplicates\n",
    "num_news_after = scored_news_clean['Headline'].count()\n",
    "                                                        \n",
    "# Print before and after numbers to get an idea of how we did \n",
    "print(f\"Before we had {num_news_before} headlines, now we have {num_news_after}\")"
   ]
  },
  {
   "cell_type": "markdown",
   "metadata": {},
   "source": [
    "### Sentiment on a single trading day with a single stock"
   ]
  },
  {
   "cell_type": "code",
   "execution_count": 54,
   "metadata": {},
   "outputs": [],
   "source": [
    "# Set the index to ticker and date\n",
    "single_day = scored_news_clean.set_index(['Ticker', 'Date'])\n",
    "# Cross-section the fb row\n",
    "single_day = single_day.xs('AMZN')\n",
    "\n",
    "# Select the 3rd of January of 2019\n",
    "single_day = single_day['2020-12-22']\n",
    "\n",
    "# Convert the datetime string to just the time\n",
    "single_day['Time'] = pd.to_datetime(single_day['Time']).dt.time\n",
    "\n",
    "# Set the index to time and \n",
    "single_day = single_day.set_index('Time')\n",
    "\n",
    "# Sort it\n",
    "single_day = single_day.sort_index()"
   ]
  },
  {
   "cell_type": "code",
   "execution_count": 55,
   "metadata": {},
   "outputs": [
    {
     "data": {
      "text/html": [
       "<div>\n",
       "<style scoped>\n",
       "    .dataframe tbody tr th:only-of-type {\n",
       "        vertical-align: middle;\n",
       "    }\n",
       "\n",
       "    .dataframe tbody tr th {\n",
       "        vertical-align: top;\n",
       "    }\n",
       "\n",
       "    .dataframe thead th {\n",
       "        text-align: right;\n",
       "    }\n",
       "</style>\n",
       "<table border=\"1\" class=\"dataframe\">\n",
       "  <thead>\n",
       "    <tr style=\"text-align: right;\">\n",
       "      <th></th>\n",
       "      <th>Headline</th>\n",
       "      <th>neg</th>\n",
       "      <th>neu</th>\n",
       "      <th>pos</th>\n",
       "      <th>compound</th>\n",
       "    </tr>\n",
       "    <tr>\n",
       "      <th>Time</th>\n",
       "      <th></th>\n",
       "      <th></th>\n",
       "      <th></th>\n",
       "      <th></th>\n",
       "      <th></th>\n",
       "    </tr>\n",
       "  </thead>\n",
       "  <tbody>\n",
       "    <tr>\n",
       "      <th>03:53:00</th>\n",
       "      <td>Startups Target Small Merchants On Amazon's Pl...</td>\n",
       "      <td>0.000</td>\n",
       "      <td>1.000</td>\n",
       "      <td>0.000</td>\n",
       "      <td>0.0000</td>\n",
       "    </tr>\n",
       "    <tr>\n",
       "      <th>05:49:00</th>\n",
       "      <td>Markets are moving away from a 'Darwinistic' p...</td>\n",
       "      <td>0.000</td>\n",
       "      <td>1.000</td>\n",
       "      <td>0.000</td>\n",
       "      <td>0.0000</td>\n",
       "    </tr>\n",
       "    <tr>\n",
       "      <th>06:06:00</th>\n",
       "      <td>5 Brand-Name Stocks That Can Still Make You a ...</td>\n",
       "      <td>0.000</td>\n",
       "      <td>1.000</td>\n",
       "      <td>0.000</td>\n",
       "      <td>0.0000</td>\n",
       "    </tr>\n",
       "    <tr>\n",
       "      <th>06:15:00</th>\n",
       "      <td>These 10 clunkers are my worst calls from a de...</td>\n",
       "      <td>0.241</td>\n",
       "      <td>0.647</td>\n",
       "      <td>0.112</td>\n",
       "      <td>-0.4939</td>\n",
       "    </tr>\n",
       "    <tr>\n",
       "      <th>06:26:00</th>\n",
       "      <td>Google Helps Birth Two Social Media Unicorns i...</td>\n",
       "      <td>0.000</td>\n",
       "      <td>0.645</td>\n",
       "      <td>0.355</td>\n",
       "      <td>0.5267</td>\n",
       "    </tr>\n",
       "  </tbody>\n",
       "</table>\n",
       "</div>"
      ],
      "text/plain": [
       "                                                   Headline    neg    neu  \\\n",
       "Time                                                                        \n",
       "03:53:00  Startups Target Small Merchants On Amazon's Pl...  0.000  1.000   \n",
       "05:49:00  Markets are moving away from a 'Darwinistic' p...  0.000  1.000   \n",
       "06:06:00  5 Brand-Name Stocks That Can Still Make You a ...  0.000  1.000   \n",
       "06:15:00  These 10 clunkers are my worst calls from a de...  0.241  0.647   \n",
       "06:26:00  Google Helps Birth Two Social Media Unicorns i...  0.000  0.645   \n",
       "\n",
       "            pos  compound  \n",
       "Time                       \n",
       "03:53:00  0.000    0.0000  \n",
       "05:49:00  0.000    0.0000  \n",
       "06:06:00  0.000    0.0000  \n",
       "06:15:00  0.112   -0.4939  \n",
       "06:26:00  0.355    0.5267  "
      ]
     },
     "execution_count": 55,
     "metadata": {},
     "output_type": "execute_result"
    }
   ],
   "source": [
    "# single_day.info()\n",
    "single_day.head()\n",
    "# single_day.index"
   ]
  },
  {
   "cell_type": "code",
   "execution_count": 56,
   "metadata": {},
   "outputs": [],
   "source": [
    "def plot_sent(data,colrs,gph_title): \n",
    "    # Drop the columns that aren't useful for the plot\n",
    "    plot_data = data.drop(['Headline', 'compound'], axis=1)\n",
    "\n",
    "    # Change the column names to 'negative', 'positive', and 'neutral'\n",
    "    plot_data.columns = ['negative', 'positive', 'neutral']\n",
    "\n",
    "    # Plot a stacked bar chart\n",
    "    plot_data.plot(kind='bar', title=gph_title, color=colrs,width=1)"
   ]
  },
  {
   "cell_type": "code",
   "execution_count": 57,
   "metadata": {},
   "outputs": [
    {
     "data": {
      "image/png": "[encoded data removed]",
      "text/plain": [
       "<Figure size 432x288 with 1 Axes>"
      ]
     },
     "metadata": {
      "needs_background": "light"
     },
     "output_type": "display_data"
    }
   ],
   "source": [
    "TITLE = \"Positive, negative and neutral sentiment for AMZN on 2020-12-22\"\n",
    "COLORS = [\"red\", \"green\", \"orange\"]\n",
    "plot_sent(single_day,COLORS,TITLE)"
   ]
  },
  {
   "cell_type": "markdown",
   "metadata": {},
   "source": [
    "## 2. Stock Analysis\n",
    "\n",
    "Going to use yfinance"
   ]
  },
  {
   "cell_type": "code",
   "execution_count": 58,
   "metadata": {},
   "outputs": [],
   "source": [
    "amzn = yf.Ticker('AMZN')"
   ]
  },
  {
   "cell_type": "code",
   "execution_count": 59,
   "metadata": {},
   "outputs": [],
   "source": [
    "# lets see what we're working with\n",
    "# amzn.info"
   ]
  },
  {
   "cell_type": "code",
   "execution_count": 60,
   "metadata": {},
   "outputs": [
    {
     "data": {
      "text/html": [
       "<div>\n",
       "<style scoped>\n",
       "    .dataframe tbody tr th:only-of-type {\n",
       "        vertical-align: middle;\n",
       "    }\n",
       "\n",
       "    .dataframe tbody tr th {\n",
       "        vertical-align: top;\n",
       "    }\n",
       "\n",
       "    .dataframe thead th {\n",
       "        text-align: right;\n",
       "    }\n",
       "</style>\n",
       "<table border=\"1\" class=\"dataframe\">\n",
       "  <thead>\n",
       "    <tr style=\"text-align: right;\">\n",
       "      <th></th>\n",
       "      <th>Open</th>\n",
       "      <th>High</th>\n",
       "      <th>Low</th>\n",
       "      <th>Close</th>\n",
       "      <th>Volume</th>\n",
       "      <th>Dividends</th>\n",
       "      <th>Stock Splits</th>\n",
       "    </tr>\n",
       "    <tr>\n",
       "      <th>Datetime</th>\n",
       "      <th></th>\n",
       "      <th></th>\n",
       "      <th></th>\n",
       "      <th></th>\n",
       "      <th></th>\n",
       "      <th></th>\n",
       "      <th></th>\n",
       "    </tr>\n",
       "  </thead>\n",
       "  <tbody>\n",
       "    <tr>\n",
       "      <th>2020-12-23 09:30:00-05:00</th>\n",
       "      <td>3205.000000</td>\n",
       "      <td>3205.500000</td>\n",
       "      <td>3201.010010</td>\n",
       "      <td>3203.004883</td>\n",
       "      <td>60569</td>\n",
       "      <td>0</td>\n",
       "      <td>0</td>\n",
       "    </tr>\n",
       "    <tr>\n",
       "      <th>2020-12-23 09:31:00-05:00</th>\n",
       "      <td>3199.524902</td>\n",
       "      <td>3200.000000</td>\n",
       "      <td>3198.000000</td>\n",
       "      <td>3198.193115</td>\n",
       "      <td>10686</td>\n",
       "      <td>0</td>\n",
       "      <td>0</td>\n",
       "    </tr>\n",
       "    <tr>\n",
       "      <th>2020-12-23 09:32:00-05:00</th>\n",
       "      <td>3198.010010</td>\n",
       "      <td>3198.399902</td>\n",
       "      <td>3195.000000</td>\n",
       "      <td>3198.399902</td>\n",
       "      <td>12893</td>\n",
       "      <td>0</td>\n",
       "      <td>0</td>\n",
       "    </tr>\n",
       "    <tr>\n",
       "      <th>2020-12-23 09:33:00-05:00</th>\n",
       "      <td>3197.199951</td>\n",
       "      <td>3197.699951</td>\n",
       "      <td>3197.199951</td>\n",
       "      <td>3197.199951</td>\n",
       "      <td>10093</td>\n",
       "      <td>0</td>\n",
       "      <td>0</td>\n",
       "    </tr>\n",
       "    <tr>\n",
       "      <th>2020-12-23 09:34:00-05:00</th>\n",
       "      <td>3195.000000</td>\n",
       "      <td>3195.000000</td>\n",
       "      <td>3192.000000</td>\n",
       "      <td>3193.649902</td>\n",
       "      <td>20720</td>\n",
       "      <td>0</td>\n",
       "      <td>0</td>\n",
       "    </tr>\n",
       "  </tbody>\n",
       "</table>\n",
       "</div>"
      ],
      "text/plain": [
       "                                  Open         High          Low        Close  \\\n",
       "Datetime                                                                        \n",
       "2020-12-23 09:30:00-05:00  3205.000000  3205.500000  3201.010010  3203.004883   \n",
       "2020-12-23 09:31:00-05:00  3199.524902  3200.000000  3198.000000  3198.193115   \n",
       "2020-12-23 09:32:00-05:00  3198.010010  3198.399902  3195.000000  3198.399902   \n",
       "2020-12-23 09:33:00-05:00  3197.199951  3197.699951  3197.199951  3197.199951   \n",
       "2020-12-23 09:34:00-05:00  3195.000000  3195.000000  3192.000000  3193.649902   \n",
       "\n",
       "                           Volume  Dividends  Stock Splits  \n",
       "Datetime                                                    \n",
       "2020-12-23 09:30:00-05:00   60569          0             0  \n",
       "2020-12-23 09:31:00-05:00   10686          0             0  \n",
       "2020-12-23 09:32:00-05:00   12893          0             0  \n",
       "2020-12-23 09:33:00-05:00   10093          0             0  \n",
       "2020-12-23 09:34:00-05:00   20720          0             0  "
      ]
     },
     "execution_count": 60,
     "metadata": {},
     "output_type": "execute_result"
    }
   ],
   "source": [
    "adf = amzn.history(period='1d',interval='1m')\n",
    "adf.head()"
   ]
  },
  {
   "cell_type": "code",
   "execution_count": 61,
   "metadata": {},
   "outputs": [
    {
     "data": {
      "text/html": [
       "<div>\n",
       "<style scoped>\n",
       "    .dataframe tbody tr th:only-of-type {\n",
       "        vertical-align: middle;\n",
       "    }\n",
       "\n",
       "    .dataframe tbody tr th {\n",
       "        vertical-align: top;\n",
       "    }\n",
       "\n",
       "    .dataframe thead th {\n",
       "        text-align: right;\n",
       "    }\n",
       "</style>\n",
       "<table border=\"1\" class=\"dataframe\">\n",
       "  <thead>\n",
       "    <tr style=\"text-align: right;\">\n",
       "      <th></th>\n",
       "      <th>Low</th>\n",
       "    </tr>\n",
       "    <tr>\n",
       "      <th>Datetime</th>\n",
       "      <th></th>\n",
       "    </tr>\n",
       "  </thead>\n",
       "  <tbody>\n",
       "    <tr>\n",
       "      <th>2020-12-23 09:30:00-05:00</th>\n",
       "      <td>3201.010010</td>\n",
       "    </tr>\n",
       "    <tr>\n",
       "      <th>2020-12-23 09:31:00-05:00</th>\n",
       "      <td>3198.000000</td>\n",
       "    </tr>\n",
       "    <tr>\n",
       "      <th>2020-12-23 09:32:00-05:00</th>\n",
       "      <td>3195.000000</td>\n",
       "    </tr>\n",
       "    <tr>\n",
       "      <th>2020-12-23 09:33:00-05:00</th>\n",
       "      <td>3197.199951</td>\n",
       "    </tr>\n",
       "    <tr>\n",
       "      <th>2020-12-23 09:34:00-05:00</th>\n",
       "      <td>3192.000000</td>\n",
       "    </tr>\n",
       "  </tbody>\n",
       "</table>\n",
       "</div>"
      ],
      "text/plain": [
       "                                   Low\n",
       "Datetime                              \n",
       "2020-12-23 09:30:00-05:00  3201.010010\n",
       "2020-12-23 09:31:00-05:00  3198.000000\n",
       "2020-12-23 09:32:00-05:00  3195.000000\n",
       "2020-12-23 09:33:00-05:00  3197.199951\n",
       "2020-12-23 09:34:00-05:00  3192.000000"
      ]
     },
     "execution_count": 61,
     "metadata": {},
     "output_type": "execute_result"
    }
   ],
   "source": [
    "# using lows\n",
    "adf = adf[['Low']]\n",
    "adf.head()"
   ]
  },
  {
   "cell_type": "markdown",
   "metadata": {},
   "source": [
    "Since we’re going to use the data just for the last day, let’s reindex the dataframe to remove the date and timezone components and keep just the time one:"
   ]
  },
  {
   "cell_type": "code",
   "execution_count": 62,
   "metadata": {},
   "outputs": [],
   "source": [
    "# setting the date\n",
    "adf['date'] = pd.to_datetime(adf.index).time\n",
    "# replace the index\n",
    "adf.set_index('date',inplace=True)"
   ]
  },
  {
   "cell_type": "code",
   "execution_count": 63,
   "metadata": {},
   "outputs": [
    {
     "data": {
      "text/html": [
       "<div>\n",
       "<style scoped>\n",
       "    .dataframe tbody tr th:only-of-type {\n",
       "        vertical-align: middle;\n",
       "    }\n",
       "\n",
       "    .dataframe tbody tr th {\n",
       "        vertical-align: top;\n",
       "    }\n",
       "\n",
       "    .dataframe thead th {\n",
       "        text-align: right;\n",
       "    }\n",
       "</style>\n",
       "<table border=\"1\" class=\"dataframe\">\n",
       "  <thead>\n",
       "    <tr style=\"text-align: right;\">\n",
       "      <th></th>\n",
       "      <th>Low</th>\n",
       "    </tr>\n",
       "    <tr>\n",
       "      <th>date</th>\n",
       "      <th></th>\n",
       "    </tr>\n",
       "  </thead>\n",
       "  <tbody>\n",
       "    <tr>\n",
       "      <th>09:30:00</th>\n",
       "      <td>3201.010010</td>\n",
       "    </tr>\n",
       "    <tr>\n",
       "      <th>09:31:00</th>\n",
       "      <td>3198.000000</td>\n",
       "    </tr>\n",
       "    <tr>\n",
       "      <th>09:32:00</th>\n",
       "      <td>3195.000000</td>\n",
       "    </tr>\n",
       "    <tr>\n",
       "      <th>09:33:00</th>\n",
       "      <td>3197.199951</td>\n",
       "    </tr>\n",
       "    <tr>\n",
       "      <th>09:34:00</th>\n",
       "      <td>3192.000000</td>\n",
       "    </tr>\n",
       "  </tbody>\n",
       "</table>\n",
       "</div>"
      ],
      "text/plain": [
       "                  Low\n",
       "date                 \n",
       "09:30:00  3201.010010\n",
       "09:31:00  3198.000000\n",
       "09:32:00  3195.000000\n",
       "09:33:00  3197.199951\n",
       "09:34:00  3192.000000"
      ]
     },
     "execution_count": 63,
     "metadata": {},
     "output_type": "execute_result"
    }
   ],
   "source": [
    "adf.head()"
   ]
  },
  {
   "cell_type": "code",
   "execution_count": 64,
   "metadata": {},
   "outputs": [
    {
     "data": {
      "text/plain": [
       "382"
      ]
     },
     "execution_count": 64,
     "metadata": {},
     "output_type": "execute_result"
    }
   ],
   "source": [
    "# get length of df to see how we can plot it\n",
    "len(adf)"
   ]
  },
  {
   "cell_type": "code",
   "execution_count": 65,
   "metadata": {},
   "outputs": [
    {
     "data": {
      "text/html": [
       "<div>\n",
       "<style scoped>\n",
       "    .dataframe tbody tr th:only-of-type {\n",
       "        vertical-align: middle;\n",
       "    }\n",
       "\n",
       "    .dataframe tbody tr th {\n",
       "        vertical-align: top;\n",
       "    }\n",
       "\n",
       "    .dataframe thead th {\n",
       "        text-align: right;\n",
       "    }\n",
       "</style>\n",
       "<table border=\"1\" class=\"dataframe\">\n",
       "  <thead>\n",
       "    <tr style=\"text-align: right;\">\n",
       "      <th></th>\n",
       "      <th>Low</th>\n",
       "    </tr>\n",
       "    <tr>\n",
       "      <th>date</th>\n",
       "      <th></th>\n",
       "    </tr>\n",
       "  </thead>\n",
       "  <tbody>\n",
       "    <tr>\n",
       "      <th>09:30:00</th>\n",
       "      <td>3201.010010</td>\n",
       "    </tr>\n",
       "    <tr>\n",
       "      <th>09:35:00</th>\n",
       "      <td>3194.000000</td>\n",
       "    </tr>\n",
       "    <tr>\n",
       "      <th>09:40:00</th>\n",
       "      <td>3192.139893</td>\n",
       "    </tr>\n",
       "    <tr>\n",
       "      <th>09:45:00</th>\n",
       "      <td>3188.600098</td>\n",
       "    </tr>\n",
       "    <tr>\n",
       "      <th>09:50:00</th>\n",
       "      <td>3193.243896</td>\n",
       "    </tr>\n",
       "  </tbody>\n",
       "</table>\n",
       "</div>"
      ],
      "text/plain": [
       "                  Low\n",
       "date                 \n",
       "09:30:00  3201.010010\n",
       "09:35:00  3194.000000\n",
       "09:40:00  3192.139893\n",
       "09:45:00  3188.600098\n",
       "09:50:00  3193.243896"
      ]
     },
     "execution_count": 65,
     "metadata": {},
     "output_type": "execute_result"
    }
   ],
   "source": [
    "# every 5th row, meaning every 5 minutes\n",
    "graph_adf=adf.iloc[::5, :]\n",
    "graph_adf.head()"
   ]
  },
  {
   "cell_type": "code",
   "execution_count": 66,
   "metadata": {},
   "outputs": [
    {
     "data": {
      "text/plain": [
       "<AxesSubplot:title={'center':'stock movement for AMZN on 2020-12-22'}, xlabel='date'>"
      ]
     },
     "execution_count": 66,
     "metadata": {},
     "output_type": "execute_result"
    },
    {
     "data": {
      "image/png": "[encoded data removed]",
      "text/plain": [
       "<Figure size 720x360 with 1 Axes>"
      ]
     },
     "metadata": {
      "needs_background": "light"
     },
     "output_type": "display_data"
    }
   ],
   "source": [
    "TITLE2 = \"stock movement for AMZN on 2020-12-22\"\n",
    "# ax = plot_day.plot(kind='bar', title=TITLE, color=COLORS, figsize=(10,5), width=1)\n",
    "graph_adf.plot(title=TITLE2,figsize=(10,5))\n",
    "\n",
    "# ax = df1.plot()\n",
    "# df2.plot(ax=ax)"
   ]
  },
  {
   "cell_type": "markdown",
   "metadata": {},
   "source": [
    "## 3. Sentiment and Stock Plotting"
   ]
  },
  {
   "cell_type": "code",
   "execution_count": 73,
   "metadata": {},
   "outputs": [
    {
     "data": {
      "text/plain": [
       "Text(0, 0.5, 'Stock Movement')"
      ]
     },
     "execution_count": 73,
     "metadata": {},
     "output_type": "execute_result"
    },
    {
     "data": {
      "image/png": "[encoded data removed]",
      "text/plain": [
       "<Figure size 1080x360 with 2 Axes>"
      ]
     },
     "metadata": {
      "needs_background": "light"
     },
     "output_type": "display_data"
    }
   ],
   "source": [
    "pd.plotting.register_matplotlib_converters()\n",
    "fig, ax1=plt.subplots(figsize=(15,5))\n",
    "ax2 = ax1.twinx() # set up 2nd axis\n",
    "#plot line graph first, that's axis one\n",
    "\n",
    "plot_data = single_day.drop(['Headline', 'compound'], axis=1)\n",
    "# Change the column names to 'negative', 'positive', and 'neutral'\n",
    "plot_data.columns = ['negative', 'positive', 'neutral']\n",
    "# Plot a stacked bar chart\n",
    "wh=500 #width\n",
    "# shift = pd.to_timedelta('1S')\n",
    "ax1.set_facecolor('xkcd:sky blue')\n",
    "pos = ax1.bar(plot_data.index,plot_data['positive'],wh,color='white')\n",
    "neg = ax1.bar(plot_data.index,plot_data['negative'],wh,color='black')\n",
    "neu = ax1.bar(plot_data.index,plot_data['neutral'],wh,color='gray')\n",
    "ax1.legend( (pos, neg, neu), ('Positive', 'Negative', 'Neutral') )\n",
    "# ax1.legend()\n",
    "# ax2.bar(plot_data.index,plot_data.negative,color=COLORS)\n",
    "ax2.plot(adf,color='red')\n",
    "ax1.set_title('News Sentiment and Stock movement for AMZN, Dec 23, 2020')\n",
    "ax1.set_ylabel('Sentiment')\n",
    "ax2.set_ylabel('Stock Movement')\n",
    "# plt.legend()"
   ]
  }
 ],
 "metadata": {
  "kernelspec": {
   "display_name": "Python 3",
   "language": "python",
   "name": "python3"
  },
  "language_info": {
   "codemirror_mode": {
    "name": "ipython",
    "version": 3
   },
   "file_extension": ".py",
   "mimetype": "text/x-python",
   "name": "python",
   "nbconvert_exporter": "python",
   "pygments_lexer": "ipython3",
   "version": "3.7.6"
  }
 },
 "nbformat": 4,
 "nbformat_minor": 4
}
