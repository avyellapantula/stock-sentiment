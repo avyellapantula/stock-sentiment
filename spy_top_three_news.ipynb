{
 "cells": [
  {
   "cell_type": "markdown",
   "metadata": {},
   "source": [
    "# Impact of News Sentiment on Stocks\n",
    "### 1. News Sentiment Analysis\n",
    "### 2. Stock Analysis"
   ]
  },
  {
   "cell_type": "markdown",
   "metadata": {},
   "source": [
    "## 1. News Sentiment Analysis"
   ]
  },
  {
   "cell_type": "code",
   "execution_count": 21,
   "metadata": {},
   "outputs": [],
   "source": [
    "# !pip install seaborn"
   ]
  },
  {
   "cell_type": "code",
   "execution_count": 22,
   "metadata": {},
   "outputs": [],
   "source": [
    "import pandas as pd\n",
    "from bs4 import BeautifulSoup\n",
    "import matplotlib.pyplot as plt\n",
    "from urllib.request import urlopen\n",
    "from urllib.request import Request\n",
    "from nltk.sentiment.vader import SentimentIntensityAnalyzer\n",
    "import nltk\n",
    "# nltk.download('vader_lexicon')\n",
    "import matplotlib.pyplot as plt\n",
    "import seaborn as sns\n",
    "\n",
    "%matplotlib inline\n",
    "import yfinance as yf"
   ]
  },
  {
   "cell_type": "code",
   "execution_count": 3,
   "metadata": {},
   "outputs": [],
   "source": [
    "# params\n",
    "n=3 # number of headlines displayed per ticker\n",
    "tickers=['AAPL','MSFT','AMZN']"
   ]
  },
  {
   "cell_type": "code",
   "execution_count": 4,
   "metadata": {},
   "outputs": [],
   "source": [
    "# Get Data\n",
    "finwiz_url = 'https://finviz.com/quote.ashx?t='\n",
    "news_tables = {}"
   ]
  },
  {
   "cell_type": "code",
   "execution_count": 5,
   "metadata": {},
   "outputs": [],
   "source": [
    "for ticker in tickers:\n",
    "    url = finwiz_url + ticker\n",
    "    req = Request(url=url,headers={'user-agent': 'my-app/0.0.1'}) \n",
    "    resp = urlopen(req)    \n",
    "    html = BeautifulSoup(resp, features=\"lxml\")\n",
    "    news_table = html.find(id='news-table')\n",
    "    news_tables[ticker] = news_table"
   ]
  },
  {
   "cell_type": "code",
   "execution_count": 6,
   "metadata": {},
   "outputs": [
    {
     "name": "stdout",
     "output_type": "stream",
     "text": [
      "\n",
      "\n",
      "Recent News Headlines for AAPL: \n",
      "Dow Jones Futures: Stimulus Deal Vote Due After Stock Market Rally Off Lows, Tesla Sinks In S&P 500 Debut; Apple, Peloton Rise Late ( Dec-21-20 06:32PM )\n",
      "Dow Jones Stocks To Buy And Watch In December 2020: Apple Reverses ( 06:12PM )\n",
      "Apple (AAPL) Gains As Market Dips: What You Should Know ( 05:45PM )\n",
      "\n",
      "\n",
      "Recent News Headlines for MSFT: \n",
      "Google, Cisco and VMware join Microsoft to oppose NSO Group in WhatsApp spyware case ( Dec-21-20 06:23PM )\n",
      "Microsoft, Google, Cisco, VMware join legal battle against hacking company NSO ( 05:29PM )\n",
      "Electronic Arts Makes a Move ( 05:29PM )\n",
      "\n",
      "\n",
      "Recent News Headlines for AMZN: \n",
      "Electronic Arts Makes a Move ( Dec-21-20 05:29PM )\n",
      "3 Stocks You Didn't Know Were Betting on Renewable Energy ( 05:00PM )\n",
      "Googles Aramco Deal Risks Irking Staff Over Oil, Politics ( 04:28PM )\n"
     ]
    }
   ],
   "source": [
    "try:\n",
    "    for ticker in tickers:\n",
    "        df = news_tables[ticker]\n",
    "        df_tr = df.findAll('tr')\n",
    "    \n",
    "        print ('\\n')\n",
    "        print ('Recent News Headlines for {}: '.format(ticker))\n",
    "        \n",
    "        for i, table_row in enumerate(df_tr):\n",
    "            a_text = table_row.a.text\n",
    "            td_text = table_row.td.text\n",
    "            td_text = td_text.strip()\n",
    "            print(a_text,'(',td_text,')')\n",
    "            if i == n-1:\n",
    "                break\n",
    "except KeyError:\n",
    "    pass"
   ]
  },
  {
   "cell_type": "code",
   "execution_count": 7,
   "metadata": {},
   "outputs": [],
   "source": [
    "# Iterate through the news\n",
    "parsed_news = []\n",
    "for file_name, news_table in news_tables.items():\n",
    "    for x in news_table.findAll('tr'):\n",
    "        text = x.a.get_text() \n",
    "        date_scrape = x.td.text.split()\n",
    "\n",
    "        if len(date_scrape) == 1:\n",
    "            time = date_scrape[0]\n",
    "            \n",
    "        else:\n",
    "            date = date_scrape[0]\n",
    "            time = date_scrape[1]\n",
    "\n",
    "        ticker = file_name.split('_')[0]\n",
    "        \n",
    "        parsed_news.append([ticker, date, time, text])"
   ]
  },
  {
   "cell_type": "code",
   "execution_count": 8,
   "metadata": {},
   "outputs": [],
   "source": [
    "# Sentiment Analysis\n",
    "analyzer = SentimentIntensityAnalyzer()\n",
    "\n",
    "columns = ['Ticker', 'Date', 'Time', 'Headline']\n",
    "news = pd.DataFrame(parsed_news, columns=columns)\n",
    "scores = news['Headline'].apply(analyzer.polarity_scores).tolist()\n",
    "\n",
    "df_scores = pd.DataFrame(scores)\n",
    "news = news.join(df_scores, rsuffix='_right')"
   ]
  },
  {
   "cell_type": "code",
   "execution_count": 9,
   "metadata": {},
   "outputs": [
    {
     "data": {
      "text/html": [
       "<div>\n",
       "<style scoped>\n",
       "    .dataframe tbody tr th:only-of-type {\n",
       "        vertical-align: middle;\n",
       "    }\n",
       "\n",
       "    .dataframe tbody tr th {\n",
       "        vertical-align: top;\n",
       "    }\n",
       "\n",
       "    .dataframe thead th {\n",
       "        text-align: right;\n",
       "    }\n",
       "</style>\n",
       "<table border=\"1\" class=\"dataframe\">\n",
       "  <thead>\n",
       "    <tr style=\"text-align: right;\">\n",
       "      <th></th>\n",
       "      <th>Ticker</th>\n",
       "      <th>Date</th>\n",
       "      <th>Time</th>\n",
       "      <th>Headline</th>\n",
       "      <th>neg</th>\n",
       "      <th>neu</th>\n",
       "      <th>pos</th>\n",
       "      <th>compound</th>\n",
       "    </tr>\n",
       "  </thead>\n",
       "  <tbody>\n",
       "    <tr>\n",
       "      <th>0</th>\n",
       "      <td>AAPL</td>\n",
       "      <td>Dec-21-20</td>\n",
       "      <td>06:32PM</td>\n",
       "      <td>Dow Jones Futures: Stimulus Deal Vote Due Afte...</td>\n",
       "      <td>0.076</td>\n",
       "      <td>0.924</td>\n",
       "      <td>0.000</td>\n",
       "      <td>-0.2023</td>\n",
       "    </tr>\n",
       "    <tr>\n",
       "      <th>1</th>\n",
       "      <td>AAPL</td>\n",
       "      <td>Dec-21-20</td>\n",
       "      <td>06:12PM</td>\n",
       "      <td>Dow Jones Stocks To Buy And Watch In December ...</td>\n",
       "      <td>0.000</td>\n",
       "      <td>1.000</td>\n",
       "      <td>0.000</td>\n",
       "      <td>0.0000</td>\n",
       "    </tr>\n",
       "    <tr>\n",
       "      <th>2</th>\n",
       "      <td>AAPL</td>\n",
       "      <td>Dec-21-20</td>\n",
       "      <td>05:45PM</td>\n",
       "      <td>Apple (AAPL) Gains As Market Dips: What You Sh...</td>\n",
       "      <td>0.000</td>\n",
       "      <td>0.789</td>\n",
       "      <td>0.211</td>\n",
       "      <td>0.3400</td>\n",
       "    </tr>\n",
       "    <tr>\n",
       "      <th>3</th>\n",
       "      <td>AAPL</td>\n",
       "      <td>Dec-21-20</td>\n",
       "      <td>05:43PM</td>\n",
       "      <td>Apple Targets Autonomous Car for Consumers by ...</td>\n",
       "      <td>0.000</td>\n",
       "      <td>1.000</td>\n",
       "      <td>0.000</td>\n",
       "      <td>0.0000</td>\n",
       "    </tr>\n",
       "    <tr>\n",
       "      <th>4</th>\n",
       "      <td>AAPL</td>\n",
       "      <td>Dec-21-20</td>\n",
       "      <td>05:43PM</td>\n",
       "      <td>Apple reportedly plans production of electric ...</td>\n",
       "      <td>0.000</td>\n",
       "      <td>1.000</td>\n",
       "      <td>0.000</td>\n",
       "      <td>0.0000</td>\n",
       "    </tr>\n",
       "  </tbody>\n",
       "</table>\n",
       "</div>"
      ],
      "text/plain": [
       "  Ticker       Date     Time  \\\n",
       "0   AAPL  Dec-21-20  06:32PM   \n",
       "1   AAPL  Dec-21-20  06:12PM   \n",
       "2   AAPL  Dec-21-20  05:45PM   \n",
       "3   AAPL  Dec-21-20  05:43PM   \n",
       "4   AAPL  Dec-21-20  05:43PM   \n",
       "\n",
       "                                            Headline    neg    neu    pos  \\\n",
       "0  Dow Jones Futures: Stimulus Deal Vote Due Afte...  0.076  0.924  0.000   \n",
       "1  Dow Jones Stocks To Buy And Watch In December ...  0.000  1.000  0.000   \n",
       "2  Apple (AAPL) Gains As Market Dips: What You Sh...  0.000  0.789  0.211   \n",
       "3  Apple Targets Autonomous Car for Consumers by ...  0.000  1.000  0.000   \n",
       "4  Apple reportedly plans production of electric ...  0.000  1.000  0.000   \n",
       "\n",
       "   compound  \n",
       "0   -0.2023  \n",
       "1    0.0000  \n",
       "2    0.3400  \n",
       "3    0.0000  \n",
       "4    0.0000  "
      ]
     },
     "execution_count": 9,
     "metadata": {},
     "output_type": "execute_result"
    }
   ],
   "source": [
    "news.head()"
   ]
  },
  {
   "cell_type": "code",
   "execution_count": 10,
   "metadata": {},
   "outputs": [],
   "source": [
    "news.to_csv('hl_12_21.csv')"
   ]
  },
  {
   "cell_type": "code",
   "execution_count": 11,
   "metadata": {},
   "outputs": [],
   "source": [
    "# View Data \n",
    "news['Date'] = pd.to_datetime(news.Date).dt.date\n",
    "\n",
    "unique_ticker = news['Ticker'].unique().tolist()\n",
    "news_dict = {name: news.loc[news['Ticker'] == name] for name in unique_ticker}\n"
   ]
  },
  {
   "cell_type": "code",
   "execution_count": 12,
   "metadata": {},
   "outputs": [
    {
     "name": "stdout",
     "output_type": "stream",
     "text": [
      "\n",
      "\n",
      "              Date     Time    neg    neu    pos  compound\n",
      "Ticker                                                    \n",
      "AAPL    2020-12-21  06:32PM  0.076  0.924  0.000   -0.2023\n",
      "AAPL    2020-12-21  06:12PM  0.000  1.000  0.000    0.0000\n",
      "AAPL    2020-12-21  05:45PM  0.000  0.789  0.211    0.3400\n",
      "AAPL    2020-12-21  05:43PM  0.000  1.000  0.000    0.0000\n",
      "AAPL    2020-12-21  05:43PM  0.000  1.000  0.000    0.0000\n",
      "\n",
      "\n",
      "              Date     Time    neg    neu    pos  compound\n",
      "Ticker                                                    \n",
      "MSFT    2020-12-21  06:23PM  0.000  0.855  0.145    0.2960\n",
      "MSFT    2020-12-21  05:29PM  0.182  0.559  0.259    0.0258\n",
      "MSFT    2020-12-21  05:29PM  0.000  1.000  0.000    0.0000\n",
      "MSFT    2020-12-21  05:05PM  0.000  1.000  0.000    0.0000\n",
      "MSFT    2020-12-21  04:36PM  0.274  0.726  0.000   -0.3400\n",
      "\n",
      "\n",
      "              Date     Time    neg    neu    pos  compound\n",
      "Ticker                                                    \n",
      "AMZN    2020-12-21  05:29PM  0.000  1.000  0.000    0.0000\n",
      "AMZN    2020-12-21  05:00PM  0.000  0.792  0.208    0.2732\n",
      "AMZN    2020-12-21  04:28PM  0.208  0.792  0.000   -0.2732\n",
      "AMZN    2020-12-21  04:23PM  0.000  0.784  0.216    0.2960\n",
      "AMZN    2020-12-21  04:20PM  0.000  0.458  0.542    0.7269\n"
     ]
    }
   ],
   "source": [
    "values = []\n",
    "for ticker in tickers: \n",
    "    dataframe = news_dict[ticker]\n",
    "    dataframe = dataframe.set_index('Ticker')\n",
    "    dataframe = dataframe.drop(columns = ['Headline'])\n",
    "    print ('\\n')\n",
    "    print (dataframe.head())\n",
    "    \n",
    "    mean = round(dataframe['compound'].mean(), 2)\n",
    "    values.append(mean)"
   ]
  },
  {
   "cell_type": "code",
   "execution_count": 13,
   "metadata": {},
   "outputs": [
    {
     "name": "stdout",
     "output_type": "stream",
     "text": [
      "\n",
      "\n",
      "        Mean Sentiment\n",
      "Ticker                \n",
      "AMZN              0.17\n",
      "MSFT              0.03\n",
      "AAPL              0.02\n"
     ]
    }
   ],
   "source": [
    "df = pd.DataFrame(list(zip(tickers, values)), columns =['Ticker', 'Mean Sentiment']) \n",
    "df = df.set_index('Ticker')\n",
    "df = df.sort_values('Mean Sentiment', ascending=False)\n",
    "print ('\\n')\n",
    "print (df)"
   ]
  },
  {
   "cell_type": "code",
   "execution_count": 14,
   "metadata": {},
   "outputs": [
    {
     "name": "stdout",
     "output_type": "stream",
     "text": [
      "ok!\n"
     ]
    }
   ],
   "source": [
    "# New words and values\n",
    "new_words = {\n",
    "    'crushes': 10,\n",
    "    'beats': 5,\n",
    "    'misses': -5,\n",
    "    'trouble': -10,\n",
    "    'falls': -100,\n",
    "}\n",
    "# Instantiate the sentiment intensity analyzer with the existing lexicon\n",
    "vader = SentimentIntensityAnalyzer()\n",
    "# Update the lexicon\n",
    "vader.lexicon.update(new_words)\n",
    "\n",
    "print('ok!')"
   ]
  },
  {
   "cell_type": "markdown",
   "metadata": {
    "dc": {
     "key": "31"
    },
    "deletable": false,
    "editable": false,
    "run_control": {
     "frozen": true
    },
    "tags": [
     "context"
    ]
   },
   "source": [
    "## 5. BREAKING NEWS: NLTK Crushes Sentiment Estimates\n",
    "<p>Now that we have the data and the algorithm loaded, we will get to the core of the matter: programmatically predicting sentiment out of news headlines! Luckily for us, VADER is very high level so, in this case, we will not adjust the model further<sup>*</sup> other than the lexicon additions from before.</p>\n",
    "<p><sup>*</sup>VADER \"out-of-the-box\" with some extra lexicon would likely translate into <strong>heavy losses</strong> with real money. A real sentiment analysis tool with chances of being profitable will require a very extensive and dedicated to finance news lexicon. Furthermore, it might also not be enough using a pre-packaged model like VADER.</p>"
   ]
  },
  {
   "cell_type": "code",
   "execution_count": 15,
   "metadata": {
    "scrolled": true
   },
   "outputs": [
    {
     "data": {
      "text/html": [
       "<div>\n",
       "<style scoped>\n",
       "    .dataframe tbody tr th:only-of-type {\n",
       "        vertical-align: middle;\n",
       "    }\n",
       "\n",
       "    .dataframe tbody tr th {\n",
       "        vertical-align: top;\n",
       "    }\n",
       "\n",
       "    .dataframe thead th {\n",
       "        text-align: right;\n",
       "    }\n",
       "</style>\n",
       "<table border=\"1\" class=\"dataframe\">\n",
       "  <thead>\n",
       "    <tr style=\"text-align: right;\">\n",
       "      <th></th>\n",
       "      <th>Ticker</th>\n",
       "      <th>Date</th>\n",
       "      <th>Time</th>\n",
       "      <th>Headline</th>\n",
       "      <th>neg</th>\n",
       "      <th>neu</th>\n",
       "      <th>pos</th>\n",
       "      <th>compound</th>\n",
       "    </tr>\n",
       "  </thead>\n",
       "  <tbody>\n",
       "    <tr>\n",
       "      <th>0</th>\n",
       "      <td>AAPL</td>\n",
       "      <td>2020-12-21</td>\n",
       "      <td>06:32PM</td>\n",
       "      <td>Dow Jones Futures: Stimulus Deal Vote Due Afte...</td>\n",
       "      <td>0.076</td>\n",
       "      <td>0.924</td>\n",
       "      <td>0.000</td>\n",
       "      <td>-0.2023</td>\n",
       "    </tr>\n",
       "    <tr>\n",
       "      <th>1</th>\n",
       "      <td>AAPL</td>\n",
       "      <td>2020-12-21</td>\n",
       "      <td>06:12PM</td>\n",
       "      <td>Dow Jones Stocks To Buy And Watch In December ...</td>\n",
       "      <td>0.000</td>\n",
       "      <td>1.000</td>\n",
       "      <td>0.000</td>\n",
       "      <td>0.0000</td>\n",
       "    </tr>\n",
       "    <tr>\n",
       "      <th>2</th>\n",
       "      <td>AAPL</td>\n",
       "      <td>2020-12-21</td>\n",
       "      <td>05:45PM</td>\n",
       "      <td>Apple (AAPL) Gains As Market Dips: What You Sh...</td>\n",
       "      <td>0.000</td>\n",
       "      <td>0.789</td>\n",
       "      <td>0.211</td>\n",
       "      <td>0.3400</td>\n",
       "    </tr>\n",
       "    <tr>\n",
       "      <th>3</th>\n",
       "      <td>AAPL</td>\n",
       "      <td>2020-12-21</td>\n",
       "      <td>05:43PM</td>\n",
       "      <td>Apple Targets Autonomous Car for Consumers by ...</td>\n",
       "      <td>0.000</td>\n",
       "      <td>1.000</td>\n",
       "      <td>0.000</td>\n",
       "      <td>0.0000</td>\n",
       "    </tr>\n",
       "    <tr>\n",
       "      <th>4</th>\n",
       "      <td>AAPL</td>\n",
       "      <td>2020-12-21</td>\n",
       "      <td>05:43PM</td>\n",
       "      <td>Apple reportedly plans production of electric ...</td>\n",
       "      <td>0.000</td>\n",
       "      <td>1.000</td>\n",
       "      <td>0.000</td>\n",
       "      <td>0.0000</td>\n",
       "    </tr>\n",
       "    <tr>\n",
       "      <th>...</th>\n",
       "      <td>...</td>\n",
       "      <td>...</td>\n",
       "      <td>...</td>\n",
       "      <td>...</td>\n",
       "      <td>...</td>\n",
       "      <td>...</td>\n",
       "      <td>...</td>\n",
       "      <td>...</td>\n",
       "    </tr>\n",
       "    <tr>\n",
       "      <th>295</th>\n",
       "      <td>AMZN</td>\n",
       "      <td>2020-12-17</td>\n",
       "      <td>11:58AM</td>\n",
       "      <td>AMZN Stock: Consider A Bull Put Spread For Thi...</td>\n",
       "      <td>0.000</td>\n",
       "      <td>1.000</td>\n",
       "      <td>0.000</td>\n",
       "      <td>0.0000</td>\n",
       "    </tr>\n",
       "    <tr>\n",
       "      <th>296</th>\n",
       "      <td>AMZN</td>\n",
       "      <td>2020-12-17</td>\n",
       "      <td>11:38AM</td>\n",
       "      <td>Amazon Has a New Strategy to Capture India's E...</td>\n",
       "      <td>0.000</td>\n",
       "      <td>0.825</td>\n",
       "      <td>0.175</td>\n",
       "      <td>0.1779</td>\n",
       "    </tr>\n",
       "    <tr>\n",
       "      <th>297</th>\n",
       "      <td>AMZN</td>\n",
       "      <td>2020-12-17</td>\n",
       "      <td>11:30AM</td>\n",
       "      <td>3 Top Tech Stocks to Buy During a Recession</td>\n",
       "      <td>0.292</td>\n",
       "      <td>0.521</td>\n",
       "      <td>0.188</td>\n",
       "      <td>-0.2500</td>\n",
       "    </tr>\n",
       "    <tr>\n",
       "      <th>298</th>\n",
       "      <td>AMZN</td>\n",
       "      <td>2020-12-17</td>\n",
       "      <td>10:47AM</td>\n",
       "      <td>Why Roku Stock Jumped Today</td>\n",
       "      <td>0.000</td>\n",
       "      <td>1.000</td>\n",
       "      <td>0.000</td>\n",
       "      <td>0.0000</td>\n",
       "    </tr>\n",
       "    <tr>\n",
       "      <th>299</th>\n",
       "      <td>AMZN</td>\n",
       "      <td>2020-12-17</td>\n",
       "      <td>10:37AM</td>\n",
       "      <td>What Will Drive the Next Leg of Growth for FAA...</td>\n",
       "      <td>0.000</td>\n",
       "      <td>0.822</td>\n",
       "      <td>0.178</td>\n",
       "      <td>0.3818</td>\n",
       "    </tr>\n",
       "  </tbody>\n",
       "</table>\n",
       "<p>300 rows × 8 columns</p>\n",
       "</div>"
      ],
      "text/plain": [
       "    Ticker        Date     Time  \\\n",
       "0     AAPL  2020-12-21  06:32PM   \n",
       "1     AAPL  2020-12-21  06:12PM   \n",
       "2     AAPL  2020-12-21  05:45PM   \n",
       "3     AAPL  2020-12-21  05:43PM   \n",
       "4     AAPL  2020-12-21  05:43PM   \n",
       "..     ...         ...      ...   \n",
       "295   AMZN  2020-12-17  11:58AM   \n",
       "296   AMZN  2020-12-17  11:38AM   \n",
       "297   AMZN  2020-12-17  11:30AM   \n",
       "298   AMZN  2020-12-17  10:47AM   \n",
       "299   AMZN  2020-12-17  10:37AM   \n",
       "\n",
       "                                              Headline    neg    neu    pos  \\\n",
       "0    Dow Jones Futures: Stimulus Deal Vote Due Afte...  0.076  0.924  0.000   \n",
       "1    Dow Jones Stocks To Buy And Watch In December ...  0.000  1.000  0.000   \n",
       "2    Apple (AAPL) Gains As Market Dips: What You Sh...  0.000  0.789  0.211   \n",
       "3    Apple Targets Autonomous Car for Consumers by ...  0.000  1.000  0.000   \n",
       "4    Apple reportedly plans production of electric ...  0.000  1.000  0.000   \n",
       "..                                                 ...    ...    ...    ...   \n",
       "295  AMZN Stock: Consider A Bull Put Spread For Thi...  0.000  1.000  0.000   \n",
       "296  Amazon Has a New Strategy to Capture India's E...  0.000  0.825  0.175   \n",
       "297        3 Top Tech Stocks to Buy During a Recession  0.292  0.521  0.188   \n",
       "298                        Why Roku Stock Jumped Today  0.000  1.000  0.000   \n",
       "299  What Will Drive the Next Leg of Growth for FAA...  0.000  0.822  0.178   \n",
       "\n",
       "     compound  \n",
       "0     -0.2023  \n",
       "1      0.0000  \n",
       "2      0.3400  \n",
       "3      0.0000  \n",
       "4      0.0000  \n",
       "..        ...  \n",
       "295    0.0000  \n",
       "296    0.1779  \n",
       "297   -0.2500  \n",
       "298    0.0000  \n",
       "299    0.3818  \n",
       "\n",
       "[300 rows x 8 columns]"
      ]
     },
     "execution_count": 15,
     "metadata": {},
     "output_type": "execute_result"
    }
   ],
   "source": [
    "news"
   ]
  },
  {
   "cell_type": "code",
   "execution_count": 16,
   "metadata": {},
   "outputs": [
    {
     "data": {
      "text/plain": [
       "<AxesSubplot:xlabel='Date'>"
      ]
     },
     "execution_count": 16,
     "metadata": {},
     "output_type": "execute_result"
    },
    {
     "data": {
      "image/png": "[encoded data removed]",
      "text/plain": [
       "<Figure size 720x360 with 1 Axes>"
      ]
     },
     "metadata": {
      "needs_background": "light"
     },
     "output_type": "display_data"
    }
   ],
   "source": [
    "# Group by date and ticker columns from scored_news and calculate the mean\n",
    "mean_c = news.groupby(['Date', 'Ticker']).mean()\n",
    "\n",
    "# Unstack the column ticker\n",
    "mean_c = mean_c.unstack('Ticker')\n",
    "\n",
    "# Get the cross-section of compound in the 'columns' axis\n",
    "mean_c = mean_c.xs('compound', axis='columns')\n",
    "# Plot a bar chart with pandas\n",
    "\n",
    "mean_c.plot(kind='bar', figsize=(10,5), width=1)"
   ]
  },
  {
   "cell_type": "markdown",
   "metadata": {
    "dc": {
     "key": "45"
    },
    "deletable": false,
    "editable": false,
    "run_control": {
     "frozen": true
    },
    "tags": [
     "context"
    ]
   },
   "source": [
    "## 7. Weekends and duplicates\n",
    "<p>What happened to Tesla on November 22nd? Since we happen to have the headlines inside our <code>DataFrame</code>, a quick peek reveals that there are a few problems with that particular day: </p>\n",
    "<ul>\n",
    "<li>There are only 5 headlines for that day.</li>\n",
    "<li>Two headlines are verbatim the same as another but from another news outlet.</li>\n",
    "</ul>\n",
    "<p>Let's clean up the dataset a bit, but not too much! While some headlines are the same news piece from different sources, the fact that they are written differently could provide different perspectives on the same story. Plus, when one piece of news is more important, it tends to get more headlines from multiple sources. What we want to get rid of is verbatim copied headlines, as these are very likely coming from the same journalist and are just being \"forwarded\" around, so to speak.</p>"
   ]
  },
  {
   "cell_type": "markdown",
   "metadata": {},
   "source": [
    "## 7. Weekends and duplicates\n",
    "<p>What happened to AMZN on Dec 21st? Since we happen to have the headlines inside our <code>DataFrame</code>, a quick peek reveals that there are a few problems with that particular day: </p>\n",
    "<ul>\n",
    "<li>There are only 5 headlines for that day.</li>\n",
    "<li>Two headlines are verbatim the same as another but from another news outlet.</li>\n",
    "</ul>\n",
    "<p>Let's clean up the dataset a bit, but not too much! While some headlines are the same news piece from different sources, the fact that they are written differently could provide different perspectives on the same story. Plus, when one piece of news is more important, it tends to get more headlines from multiple sources. What we want to get rid of is verbatim copied headlines, as these are very likely coming from the same journalist and are just being \"forwarded\" around, so to speak.</p>"
   ]
  },
  {
   "cell_type": "code",
   "execution_count": 17,
   "metadata": {},
   "outputs": [
    {
     "name": "stdout",
     "output_type": "stream",
     "text": [
      "Before we had 300 headlines, now we have 299\n"
     ]
    }
   ],
   "source": [
    "# Count the number of headlines in scored_news (store as integer)\n",
    "num_news_before = news['Headline'].count()\n",
    "\n",
    "# Drop duplicates based on ticker and headline\n",
    "scored_news_clean = news.drop_duplicates(subset=['Ticker','Headline'])\n",
    "                      \n",
    "# Count number of headlines after dropping duplicates\n",
    "num_news_after = scored_news_clean['Headline'].count()\n",
    "                                                        \n",
    "# Print before and after numbers to get an idea of how we did \n",
    "print(f\"Before we had {num_news_before} headlines, now we have {num_news_after}\")"
   ]
  },
  {
   "cell_type": "markdown",
   "metadata": {},
   "source": [
    "## Sentiment on one single trading day and stock"
   ]
  },
  {
   "cell_type": "code",
   "execution_count": 18,
   "metadata": {},
   "outputs": [
    {
     "name": "stdout",
     "output_type": "stream",
     "text": [
      "<class 'pandas.core.frame.DataFrame'>\n",
      "Index: 30 entries, 00:28:00 to 17:29:00\n",
      "Data columns (total 5 columns):\n",
      " #   Column    Non-Null Count  Dtype  \n",
      "---  ------    --------------  -----  \n",
      " 0   Headline  30 non-null     object \n",
      " 1   neg       30 non-null     float64\n",
      " 2   neu       30 non-null     float64\n",
      " 3   pos       30 non-null     float64\n",
      " 4   compound  30 non-null     float64\n",
      "dtypes: float64(4), object(1)\n",
      "memory usage: 1.4+ KB\n",
      "None\n"
     ]
    }
   ],
   "source": [
    "# Set the index to ticker and date\n",
    "single_day = scored_news_clean.set_index(['Ticker', 'Date'])\n",
    "# Cross-section the fb row\n",
    "single_day = single_day.xs('AMZN')\n",
    "\n",
    "# Select the 3rd of January of 2019\n",
    "single_day = single_day['2020-12-21']\n",
    "\n",
    "# Convert the datetime string to just the time\n",
    "single_day['Time'] = pd.to_datetime(single_day['Time']).dt.time\n",
    "\n",
    "# Set the index to time and \n",
    "single_day = single_day.set_index('Time')\n",
    "\n",
    "# Sort it\n",
    "single_day = single_day.sort_index()\n",
    "print(single_day.info())"
   ]
  },
  {
   "cell_type": "code",
   "execution_count": 19,
   "metadata": {},
   "outputs": [
    {
     "data": {
      "text/plain": [
       "<AxesSubplot:title={'center':'Positive, negative and neutral sentiment for AMZN on 2020-12-21'}, xlabel='Time'>"
      ]
     },
     "execution_count": 19,
     "metadata": {},
     "output_type": "execute_result"
    },
    {
     "data": {
      "image/png": "[encoded data removed]",
      "text/plain": [
       "<Figure size 720x360 with 1 Axes>"
      ]
     },
     "metadata": {
      "needs_background": "light"
     },
     "output_type": "display_data"
    }
   ],
   "source": [
    "TITLE = \"Positive, negative and neutral sentiment for AMZN on 2020-12-21\"\n",
    "COLORS = [\"red\", \"orange\", \"green\"]\n",
    "\n",
    "# Drop the columns that aren't useful for the plot\n",
    "plot_day = single_day.drop(['Headline', 'compound'], axis=1)\n",
    "\n",
    "# Change the column names to 'negative', 'positive', and 'neutral'\n",
    "plot_day.columns = ['negative', 'positive', 'neutral']\n",
    "\n",
    "# Plot a stacked bar chart\n",
    "plot_day.plot(kind='bar', title=TITLE, color=COLORS, figsize=(10,5), width=1)\n"
   ]
  },
  {
   "cell_type": "markdown",
   "metadata": {},
   "source": [
    "## 2. Stock Analysis"
   ]
  },
  {
   "cell_type": "code",
   "execution_count": 21,
   "metadata": {},
   "outputs": [],
   "source": [
    "# !pip install yfinance --upgrade --no-cache-dir"
   ]
  },
  {
   "cell_type": "markdown",
   "metadata": {},
   "source": [
    "Taking only AMZN for the moment"
   ]
  },
  {
   "cell_type": "markdown",
   "metadata": {
    "dc": {
     "key": "31"
    },
    "editable": false,
    "run_control": {
     "frozen": true
    },
    "tags": [
     "context"
    ]
   },
   "source": [
    "## 5. BREAKING NEWS: NLTK Crushes Sentiment Estimates\n",
    "<p>Now that we have the data and the algorithm loaded, we will get to the core of the matter: programmatically predicting sentiment out of news headlines! Luckily for us, VADER is very high level so, in this case, we will not adjust the model further<sup>*</sup> other than the lexicon additions from before.</p>\n",
    "<p><sup>*</sup>VADER \"out-of-the-box\" with some extra lexicon would likely translate into <strong>heavy losses</strong> with real money. A real sentiment analysis tool with chances of being profitable will require a very extensive and dedicated to finance news lexicon. Furthermore, it might also not be enough using a pre-packaged model like VADER.</p>"
   ]
  }
 ],
 "metadata": {
  "kernelspec": {
   "display_name": "Python 3",
   "language": "python",
   "name": "python3"
  },
  "language_info": {
   "codemirror_mode": {
    "name": "ipython",
    "version": 3
   },
   "file_extension": ".py",
   "mimetype": "text/x-python",
   "name": "python",
   "nbconvert_exporter": "python",
   "pygments_lexer": "ipython3",
   "version": "3.7.6"
  }
 },
 "nbformat": 4,
 "nbformat_minor": 4
}
